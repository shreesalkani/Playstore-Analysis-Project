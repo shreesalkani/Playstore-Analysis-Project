{
  "nbformat": 4,
  "nbformat_minor": 0,
  "metadata": {
    "kernelspec": {
      "display_name": "Python 3",
      "language": "python",
      "name": "python3"
    },
    "language_info": {
      "codemirror_mode": {
        "name": "ipython",
        "version": 3
      },
      "file_extension": ".py",
      "mimetype": "text/x-python",
      "name": "python",
      "nbconvert_exporter": "python",
      "pygments_lexer": "ipython3",
      "version": "3.7.6"
    },
    "colab": {
      "name": "Playstore analysis.ipynb",
      "provenance": [],
      "collapsed_sections": [],
      "include_colab_link": true
    }
  },
  "cells": [
    {
      "cell_type": "markdown",
      "metadata": {
        "id": "view-in-github",
        "colab_type": "text"
      },
      "source": [
        "<a href=\"https://colab.research.google.com/github/shreesalkani/Playstore-Analysis-Project/blob/main/Playstore_analysis.ipynb\" target=\"_parent\"><img src=\"https://colab.research.google.com/assets/colab-badge.svg\" alt=\"Open In Colab\"/></a>"
      ]
    },
    {
      "cell_type": "markdown",
      "metadata": {
        "id": "lqI3z6-8I0A2"
      },
      "source": [
        "# Import Library and Data"
      ]
    },
    {
      "cell_type": "code",
      "metadata": {
        "id": "IeVHEd8HI0BV"
      },
      "source": [
        "import pandas as pd\n",
        "import numpy as np\n",
        "import seaborn as sns\n",
        "import matplotlib.pyplot as plt\n",
        "%matplotlib inline\n",
        "color = sns.color_palette()"
      ],
      "execution_count": 2,
      "outputs": []
    },
    {
      "cell_type": "code",
      "metadata": {
        "colab": {
          "base_uri": "https://localhost:8080/"
        },
        "id": "yRO7Bwh7sGy0",
        "outputId": "1e2dc2d4-8aaa-44d9-81c6-d6328979ed6b"
      },
      "source": [
        "from google.colab import drive\n",
        "drive.mount('/content/drive')"
      ],
      "execution_count": 1,
      "outputs": [
        {
          "output_type": "stream",
          "name": "stdout",
          "text": [
            "Mounted at /content/drive\n"
          ]
        }
      ]
    },
    {
      "cell_type": "code",
      "metadata": {
        "colab": {
          "base_uri": "https://localhost:8080/",
          "height": 571
        },
        "id": "Jv7sydgYsas1",
        "outputId": "a908b1f2-712f-4e5d-a611-17ad0be2e151"
      },
      "source": [
        "df= pd.read_csv(r'/content/drive/MyDrive/playstore-analysis (2) (1).csv')\n",
        "df.head()\n"
      ],
      "execution_count": 3,
      "outputs": [
        {
          "output_type": "execute_result",
          "data": {
            "text/html": [
              "<div>\n",
              "<style scoped>\n",
              "    .dataframe tbody tr th:only-of-type {\n",
              "        vertical-align: middle;\n",
              "    }\n",
              "\n",
              "    .dataframe tbody tr th {\n",
              "        vertical-align: top;\n",
              "    }\n",
              "\n",
              "    .dataframe thead th {\n",
              "        text-align: right;\n",
              "    }\n",
              "</style>\n",
              "<table border=\"1\" class=\"dataframe\">\n",
              "  <thead>\n",
              "    <tr style=\"text-align: right;\">\n",
              "      <th></th>\n",
              "      <th>App</th>\n",
              "      <th>Category</th>\n",
              "      <th>Rating</th>\n",
              "      <th>Reviews</th>\n",
              "      <th>Size</th>\n",
              "      <th>Installs</th>\n",
              "      <th>Type</th>\n",
              "      <th>Price</th>\n",
              "      <th>Content Rating</th>\n",
              "      <th>Genres</th>\n",
              "      <th>Last Updated</th>\n",
              "      <th>Current Ver</th>\n",
              "      <th>Android Ver</th>\n",
              "    </tr>\n",
              "  </thead>\n",
              "  <tbody>\n",
              "    <tr>\n",
              "      <th>0</th>\n",
              "      <td>Photo Editor &amp; Candy Camera &amp; Grid &amp; ScrapBook</td>\n",
              "      <td>ART_AND_DESIGN</td>\n",
              "      <td>4.1</td>\n",
              "      <td>159</td>\n",
              "      <td>19000.0</td>\n",
              "      <td>10,000+</td>\n",
              "      <td>Free</td>\n",
              "      <td>0</td>\n",
              "      <td>Everyone</td>\n",
              "      <td>Art &amp; Design</td>\n",
              "      <td>January 7, 2018</td>\n",
              "      <td>1.0.0</td>\n",
              "      <td>4.0.3 and up</td>\n",
              "    </tr>\n",
              "    <tr>\n",
              "      <th>1</th>\n",
              "      <td>Coloring book moana</td>\n",
              "      <td>ART_AND_DESIGN</td>\n",
              "      <td>3.9</td>\n",
              "      <td>967</td>\n",
              "      <td>14000.0</td>\n",
              "      <td>500,000+</td>\n",
              "      <td>Free</td>\n",
              "      <td>0</td>\n",
              "      <td>Everyone</td>\n",
              "      <td>Art &amp; Design;Pretend Play</td>\n",
              "      <td>January 15, 2018</td>\n",
              "      <td>2.0.0</td>\n",
              "      <td>4.0.3 and up</td>\n",
              "    </tr>\n",
              "    <tr>\n",
              "      <th>2</th>\n",
              "      <td>U Launcher Lite – FREE Live Cool Themes, Hide ...</td>\n",
              "      <td>ART_AND_DESIGN</td>\n",
              "      <td>4.7</td>\n",
              "      <td>87510</td>\n",
              "      <td>8700.0</td>\n",
              "      <td>5,000,000+</td>\n",
              "      <td>Free</td>\n",
              "      <td>0</td>\n",
              "      <td>Everyone</td>\n",
              "      <td>Art &amp; Design</td>\n",
              "      <td>August 1, 2018</td>\n",
              "      <td>1.2.4</td>\n",
              "      <td>4.0.3 and up</td>\n",
              "    </tr>\n",
              "    <tr>\n",
              "      <th>3</th>\n",
              "      <td>Sketch - Draw &amp; Paint</td>\n",
              "      <td>ART_AND_DESIGN</td>\n",
              "      <td>4.5</td>\n",
              "      <td>215644</td>\n",
              "      <td>25000.0</td>\n",
              "      <td>50,000,000+</td>\n",
              "      <td>Free</td>\n",
              "      <td>0</td>\n",
              "      <td>Teen</td>\n",
              "      <td>Art &amp; Design</td>\n",
              "      <td>June 8, 2018</td>\n",
              "      <td>Varies with device</td>\n",
              "      <td>4.2 and up</td>\n",
              "    </tr>\n",
              "    <tr>\n",
              "      <th>4</th>\n",
              "      <td>Pixel Draw - Number Art Coloring Book</td>\n",
              "      <td>ART_AND_DESIGN</td>\n",
              "      <td>4.3</td>\n",
              "      <td>967</td>\n",
              "      <td>2800.0</td>\n",
              "      <td>100,000+</td>\n",
              "      <td>Free</td>\n",
              "      <td>0</td>\n",
              "      <td>Everyone</td>\n",
              "      <td>Art &amp; Design;Creativity</td>\n",
              "      <td>June 20, 2018</td>\n",
              "      <td>1.1</td>\n",
              "      <td>4.4 and up</td>\n",
              "    </tr>\n",
              "  </tbody>\n",
              "</table>\n",
              "</div>"
            ],
            "text/plain": [
              "                                                 App  ...   Android Ver\n",
              "0     Photo Editor & Candy Camera & Grid & ScrapBook  ...  4.0.3 and up\n",
              "1                                Coloring book moana  ...  4.0.3 and up\n",
              "2  U Launcher Lite – FREE Live Cool Themes, Hide ...  ...  4.0.3 and up\n",
              "3                              Sketch - Draw & Paint  ...    4.2 and up\n",
              "4              Pixel Draw - Number Art Coloring Book  ...    4.4 and up\n",
              "\n",
              "[5 rows x 13 columns]"
            ]
          },
          "metadata": {},
          "execution_count": 3
        }
      ]
    },
    {
      "cell_type": "code",
      "metadata": {
        "colab": {
          "base_uri": "https://localhost:8080/"
        },
        "id": "-GcmGYJAaYKd",
        "outputId": "a06e2c83-90c3-47ad-924b-dc72fa6a1178"
      },
      "source": [
        "df.info()"
      ],
      "execution_count": 5,
      "outputs": [
        {
          "output_type": "stream",
          "name": "stdout",
          "text": [
            "<class 'pandas.core.frame.DataFrame'>\n",
            "RangeIndex: 10841 entries, 0 to 10840\n",
            "Data columns (total 13 columns):\n",
            " #   Column          Non-Null Count  Dtype  \n",
            "---  ------          --------------  -----  \n",
            " 0   App             10841 non-null  object \n",
            " 1   Category        10841 non-null  object \n",
            " 2   Rating          9367 non-null   float64\n",
            " 3   Reviews         10841 non-null  object \n",
            " 4   Size            10841 non-null  float64\n",
            " 5   Installs        10841 non-null  object \n",
            " 6   Type            10840 non-null  object \n",
            " 7   Price           10841 non-null  object \n",
            " 8   Content Rating  10840 non-null  object \n",
            " 9   Genres          10841 non-null  object \n",
            " 10  Last Updated    10841 non-null  object \n",
            " 11  Current Ver     10833 non-null  object \n",
            " 12  Android Ver     10838 non-null  object \n",
            "dtypes: float64(2), object(11)\n",
            "memory usage: 1.1+ MB\n"
          ]
        }
      ]
    },
    {
      "cell_type": "code",
      "metadata": {
        "id": "-F8VBDDDI0Bi",
        "colab": {
          "base_uri": "https://localhost:8080/",
          "height": 299
        },
        "outputId": "7805f80a-3edc-4826-eb6e-5ad6c09ce21f"
      },
      "source": [
        "df.describe()"
      ],
      "execution_count": 6,
      "outputs": [
        {
          "output_type": "execute_result",
          "data": {
            "text/html": [
              "<div>\n",
              "<style scoped>\n",
              "    .dataframe tbody tr th:only-of-type {\n",
              "        vertical-align: middle;\n",
              "    }\n",
              "\n",
              "    .dataframe tbody tr th {\n",
              "        vertical-align: top;\n",
              "    }\n",
              "\n",
              "    .dataframe thead th {\n",
              "        text-align: right;\n",
              "    }\n",
              "</style>\n",
              "<table border=\"1\" class=\"dataframe\">\n",
              "  <thead>\n",
              "    <tr style=\"text-align: right;\">\n",
              "      <th></th>\n",
              "      <th>Rating</th>\n",
              "      <th>Size</th>\n",
              "    </tr>\n",
              "  </thead>\n",
              "  <tbody>\n",
              "    <tr>\n",
              "      <th>count</th>\n",
              "      <td>9367.000000</td>\n",
              "      <td>10841.000000</td>\n",
              "    </tr>\n",
              "    <tr>\n",
              "      <th>mean</th>\n",
              "      <td>4.193338</td>\n",
              "      <td>21516.529524</td>\n",
              "    </tr>\n",
              "    <tr>\n",
              "      <th>std</th>\n",
              "      <td>0.537431</td>\n",
              "      <td>20746.537567</td>\n",
              "    </tr>\n",
              "    <tr>\n",
              "      <th>min</th>\n",
              "      <td>1.000000</td>\n",
              "      <td>8.500000</td>\n",
              "    </tr>\n",
              "    <tr>\n",
              "      <th>25%</th>\n",
              "      <td>4.000000</td>\n",
              "      <td>5900.000000</td>\n",
              "    </tr>\n",
              "    <tr>\n",
              "      <th>50%</th>\n",
              "      <td>4.300000</td>\n",
              "      <td>18000.000000</td>\n",
              "    </tr>\n",
              "    <tr>\n",
              "      <th>75%</th>\n",
              "      <td>4.500000</td>\n",
              "      <td>26000.000000</td>\n",
              "    </tr>\n",
              "    <tr>\n",
              "      <th>max</th>\n",
              "      <td>19.000000</td>\n",
              "      <td>100000.000000</td>\n",
              "    </tr>\n",
              "  </tbody>\n",
              "</table>\n",
              "</div>"
            ],
            "text/plain": [
              "            Rating           Size\n",
              "count  9367.000000   10841.000000\n",
              "mean      4.193338   21516.529524\n",
              "std       0.537431   20746.537567\n",
              "min       1.000000       8.500000\n",
              "25%       4.000000    5900.000000\n",
              "50%       4.300000   18000.000000\n",
              "75%       4.500000   26000.000000\n",
              "max      19.000000  100000.000000"
            ]
          },
          "metadata": {},
          "execution_count": 6
        }
      ]
    },
    {
      "cell_type": "markdown",
      "metadata": {
        "id": "7UVDrBBNI0Bk"
      },
      "source": [
        "# 1.Data Cleanning – Missing value treatment"
      ]
    },
    {
      "cell_type": "markdown",
      "metadata": {
        "id": "_ZI4toVdI0Bm"
      },
      "source": [
        "a-->Drop records where rating is missing since rating is our target/study variable"
      ]
    },
    {
      "cell_type": "code",
      "metadata": {
        "id": "1Cg6wLQhI0Bp",
        "colab": {
          "base_uri": "https://localhost:8080/"
        },
        "outputId": "38f56ec9-eb68-4a57-9666-62d18f8d5191"
      },
      "source": [
        "print(f\"Missing Values :\\n{df.isnull().sum()}\")"
      ],
      "execution_count": 7,
      "outputs": [
        {
          "output_type": "stream",
          "name": "stdout",
          "text": [
            "Missing Values :\n",
            "App                  0\n",
            "Category             0\n",
            "Rating            1474\n",
            "Reviews              0\n",
            "Size                 0\n",
            "Installs             0\n",
            "Type                 1\n",
            "Price                0\n",
            "Content Rating       1\n",
            "Genres               0\n",
            "Last Updated         0\n",
            "Current Ver          8\n",
            "Android Ver          3\n",
            "dtype: int64\n"
          ]
        }
      ]
    },
    {
      "cell_type": "raw",
      "metadata": {
        "id": "rl0B4ruCI0Br"
      },
      "source": [
        "Here we can clearly see that in column rating 1474 values are missing. Also missing values in various colmn as below : \n",
        "Type                 1\n",
        "Content Rating       1\n",
        "Current Ver          8\n",
        "Android Ver          3\n",
        "So as per requirement we drop missing values in Rating colmn "
      ]
    },
    {
      "cell_type": "code",
      "metadata": {
        "id": "CsUaORTtI0Bv"
      },
      "source": [
        "df1=df.dropna(subset=['Rating'])"
      ],
      "execution_count": 5,
      "outputs": []
    },
    {
      "cell_type": "code",
      "metadata": {
        "id": "KKGsDJ2fI0Bx",
        "colab": {
          "base_uri": "https://localhost:8080/"
        },
        "outputId": "cecbc0d5-6f3d-4447-e888-cf20ff28b77a"
      },
      "source": [
        "print(f\"Missing Values :\\n{df1.isnull().sum()}\")"
      ],
      "execution_count": 9,
      "outputs": [
        {
          "output_type": "stream",
          "name": "stdout",
          "text": [
            "Missing Values :\n",
            "App               0\n",
            "Category          0\n",
            "Rating            0\n",
            "Reviews           0\n",
            "Size              0\n",
            "Installs          0\n",
            "Type              0\n",
            "Price             0\n",
            "Content Rating    1\n",
            "Genres            0\n",
            "Last Updated      0\n",
            "Current Ver       4\n",
            "Android Ver       3\n",
            "dtype: int64\n"
          ]
        }
      ]
    },
    {
      "cell_type": "markdown",
      "metadata": {
        "id": "bilxFtDlI0By"
      },
      "source": [
        "b-Check the null values for the Android Ver column."
      ]
    },
    {
      "cell_type": "code",
      "metadata": {
        "id": "suhZVzjFI0B0",
        "colab": {
          "base_uri": "https://localhost:8080/"
        },
        "outputId": "7b192d8d-0f24-497c-9fcf-d0b6e3e96d17"
      },
      "source": [
        "\n",
        "print(f\"Missing Values :\\n{df1['Android Ver'].isnull().sum()}\")"
      ],
      "execution_count": 10,
      "outputs": [
        {
          "output_type": "stream",
          "name": "stdout",
          "text": [
            "Missing Values :\n",
            "3\n"
          ]
        }
      ]
    },
    {
      "cell_type": "code",
      "metadata": {
        "id": "clBhkUhLI0B1",
        "colab": {
          "base_uri": "https://localhost:8080/"
        },
        "outputId": "37f53ad0-c0ef-4141-ffa3-4b752b276ac8"
      },
      "source": [
        "print (df1[df1.isna().any(axis=1)])"
      ],
      "execution_count": 6,
      "outputs": [
        {
          "output_type": "stream",
          "name": "stdout",
          "text": [
            "                                           App  ... Android Ver\n",
            "15             Learn To Draw Kawaii Characters  ...  4.2 and up\n",
            "1553                      Market Update Helper  ...  1.5 and up\n",
            "4453                    [substratum] Vacuum: P  ...         NaN\n",
            "4490                      Pi Dark [substratum]  ...         NaN\n",
            "6322                    Virtual DJ Sound Mixer  ...  4.0 and up\n",
            "7333                               Dots puzzle  ...  4.0 and up\n",
            "10472  Life Made WI-Fi Touchscreen Photo Frame  ...         NaN\n",
            "\n",
            "[7 rows x 13 columns]\n"
          ]
        }
      ]
    },
    {
      "cell_type": "raw",
      "metadata": {
        "id": "boNULbVsI0B3"
      },
      "source": [
        "Values are as below : \n",
        "4453     Personalization      July 20, 2018         4.4         NaN  \n",
        "4490     Personalization     March 27, 2018         1.1         NaN   \n",
        "10472  February 11, 2018             1.0.19  4.0 and up         NaN  <--as per requirement need to drop\n",
        "\n",
        "i. Are all 3 records having the same problem?\n",
        "    YES\n",
        "ii. Drop the 3rd record i.e. record for “Life Made WIFI …”"
      ]
    },
    {
      "cell_type": "code",
      "metadata": {
        "id": "dboCLy3BI0B5",
        "colab": {
          "base_uri": "https://localhost:8080/"
        },
        "outputId": "a8969f58-ef9b-4555-90e3-47f9c8d33734"
      },
      "source": [
        "df2 = df1.drop(10472)\n",
        "# Verification\n",
        "verify = df2[df2[\"App\"]=='Life Made WI-Fi Touchscreen Photo Frame']\n",
        "print (verify)"
      ],
      "execution_count": 7,
      "outputs": [
        {
          "output_type": "stream",
          "name": "stdout",
          "text": [
            "Empty DataFrame\n",
            "Columns: [App, Category, Rating, Reviews, Size, Installs, Type, Price, Content Rating, Genres, Last Updated, Current Ver, Android Ver]\n",
            "Index: []\n"
          ]
        }
      ]
    },
    {
      "cell_type": "raw",
      "metadata": {
        "id": "lYSAJ0RhI0B7"
      },
      "source": [
        "So here we successfully drop 'Life Made WI-Fi Touchscreen Photo Frame' as in output we found an empty dataframe.\n",
        "\n",
        "iii. Replace remaining missing values with the mode."
      ]
    },
    {
      "cell_type": "code",
      "metadata": {
        "id": "tsiOdTJNI0B8",
        "colab": {
          "base_uri": "https://localhost:8080/"
        },
        "outputId": "52b8c1be-2249-4ffb-d057-71a13b770b35"
      },
      "source": [
        "import statistics\n",
        "Android_list = df2['Android Ver'].to_list()\n",
        "# print(Android_list)\n",
        "# O/P ['4.2 and up', '1.5 and up', nan, nan, '4.0 and up', '4.0 and up']\n",
        "\n",
        "# Did Manual work(illegal)\n",
        "Al=[4.2,1.5,4.0,4.0]\n",
        "# print(Al)\n",
        "# print(statistics.mode(Al))\n",
        "df2_new = df2.fillna(statistics.mode(Al))\n",
        "\n",
        "print(df2_new.loc[[4453]])\n",
        "print('--------------------------------------------------------------------')\n",
        "print(df2_new.loc[[4490]])"
      ],
      "execution_count": 8,
      "outputs": [
        {
          "output_type": "stream",
          "name": "stdout",
          "text": [
            "                         App         Category  ...  Current Ver Android Ver\n",
            "4453  [substratum] Vacuum: P  PERSONALIZATION  ...          4.4           4\n",
            "\n",
            "[1 rows x 13 columns]\n",
            "--------------------------------------------------------------------\n",
            "                       App         Category  ...  Current Ver Android Ver\n",
            "4490  Pi Dark [substratum]  PERSONALIZATION  ...          1.1           4\n",
            "\n",
            "[1 rows x 13 columns]\n"
          ]
        }
      ]
    },
    {
      "cell_type": "raw",
      "metadata": {
        "id": "ft5AmcNLI0B-"
      },
      "source": [
        "Now Android Ver is 4 for Category 'PERSONALIZATION'"
      ]
    },
    {
      "cell_type": "markdown",
      "metadata": {
        "id": "Rfv60gSVI0B_"
      },
      "source": [
        "c. Current ver – replace with most common value"
      ]
    },
    {
      "cell_type": "code",
      "metadata": {
        "id": "KQleyZ2CI0CA",
        "colab": {
          "base_uri": "https://localhost:8080/"
        },
        "outputId": "4ac586e0-8680-4b15-c130-8285e406cd1d"
      },
      "source": [
        "print(f\"Missing Values :{df2_new['Current Ver'].isnull().sum()}\")"
      ],
      "execution_count": 9,
      "outputs": [
        {
          "output_type": "stream",
          "name": "stdout",
          "text": [
            "Missing Values :0\n"
          ]
        }
      ]
    },
    {
      "cell_type": "raw",
      "metadata": {
        "id": "6A8_eaVBI0CC"
      },
      "source": [
        "No missing value is observed"
      ]
    },
    {
      "cell_type": "markdown",
      "metadata": {
        "id": "HP954n5OI0CC"
      },
      "source": [
        "# 2. Data clean up – correcting the data types"
      ]
    },
    {
      "cell_type": "markdown",
      "metadata": {
        "id": "4Jm3FHZxI0CD"
      },
      "source": [
        "a. Which all variables need to be brought to numeric types?"
      ]
    },
    {
      "cell_type": "code",
      "metadata": {
        "id": "C-2WW3FYI0CE"
      },
      "source": [
        "df2_new['Reviews'] = df2_new['Reviews'].astype(int)\n",
        "df2_new['Size'] = df2_new['Size'].astype(int)\n",
        "# Additional conversion\n",
        "df2_new['Last Updated'] = df2_new['Last Updated'].astype('datetime64[ns]')\n"
      ],
      "execution_count": 10,
      "outputs": []
    },
    {
      "cell_type": "markdown",
      "metadata": {
        "id": "-cJ5I-eSI0CG"
      },
      "source": [
        "b. Price variable – remove $ sign and convert to float"
      ]
    },
    {
      "cell_type": "code",
      "metadata": {
        "id": "TWdolCB5I0CH"
      },
      "source": [
        "df2_new['Price'] = df2_new['Price'].str.replace('$', '')"
      ],
      "execution_count": 11,
      "outputs": []
    },
    {
      "cell_type": "code",
      "metadata": {
        "id": "ZaJzMTUiI0CI",
        "colab": {
          "base_uri": "https://localhost:8080/",
          "height": 270
        },
        "outputId": "09586fe6-492e-43f0-8dbe-3ad1552440b6"
      },
      "source": [
        "df2_new.head(2)"
      ],
      "execution_count": 12,
      "outputs": [
        {
          "output_type": "execute_result",
          "data": {
            "text/html": [
              "<div>\n",
              "<style scoped>\n",
              "    .dataframe tbody tr th:only-of-type {\n",
              "        vertical-align: middle;\n",
              "    }\n",
              "\n",
              "    .dataframe tbody tr th {\n",
              "        vertical-align: top;\n",
              "    }\n",
              "\n",
              "    .dataframe thead th {\n",
              "        text-align: right;\n",
              "    }\n",
              "</style>\n",
              "<table border=\"1\" class=\"dataframe\">\n",
              "  <thead>\n",
              "    <tr style=\"text-align: right;\">\n",
              "      <th></th>\n",
              "      <th>App</th>\n",
              "      <th>Category</th>\n",
              "      <th>Rating</th>\n",
              "      <th>Reviews</th>\n",
              "      <th>Size</th>\n",
              "      <th>Installs</th>\n",
              "      <th>Type</th>\n",
              "      <th>Price</th>\n",
              "      <th>Content Rating</th>\n",
              "      <th>Genres</th>\n",
              "      <th>Last Updated</th>\n",
              "      <th>Current Ver</th>\n",
              "      <th>Android Ver</th>\n",
              "    </tr>\n",
              "  </thead>\n",
              "  <tbody>\n",
              "    <tr>\n",
              "      <th>0</th>\n",
              "      <td>Photo Editor &amp; Candy Camera &amp; Grid &amp; ScrapBook</td>\n",
              "      <td>ART_AND_DESIGN</td>\n",
              "      <td>4.1</td>\n",
              "      <td>159</td>\n",
              "      <td>19000</td>\n",
              "      <td>10,000+</td>\n",
              "      <td>Free</td>\n",
              "      <td>0</td>\n",
              "      <td>Everyone</td>\n",
              "      <td>Art &amp; Design</td>\n",
              "      <td>2018-01-07</td>\n",
              "      <td>1.0.0</td>\n",
              "      <td>4.0.3 and up</td>\n",
              "    </tr>\n",
              "    <tr>\n",
              "      <th>1</th>\n",
              "      <td>Coloring book moana</td>\n",
              "      <td>ART_AND_DESIGN</td>\n",
              "      <td>3.9</td>\n",
              "      <td>967</td>\n",
              "      <td>14000</td>\n",
              "      <td>500,000+</td>\n",
              "      <td>Free</td>\n",
              "      <td>0</td>\n",
              "      <td>Everyone</td>\n",
              "      <td>Art &amp; Design;Pretend Play</td>\n",
              "      <td>2018-01-15</td>\n",
              "      <td>2.0.0</td>\n",
              "      <td>4.0.3 and up</td>\n",
              "    </tr>\n",
              "  </tbody>\n",
              "</table>\n",
              "</div>"
            ],
            "text/plain": [
              "                                              App  ...   Android Ver\n",
              "0  Photo Editor & Candy Camera & Grid & ScrapBook  ...  4.0.3 and up\n",
              "1                             Coloring book moana  ...  4.0.3 and up\n",
              "\n",
              "[2 rows x 13 columns]"
            ]
          },
          "metadata": {},
          "execution_count": 12
        }
      ]
    },
    {
      "cell_type": "raw",
      "metadata": {
        "id": "K0dLhxMQI0CL"
      },
      "source": [
        "$ symbol successfully removed from Price colmn."
      ]
    },
    {
      "cell_type": "code",
      "metadata": {
        "id": "RvENRLIMI0CM"
      },
      "source": [
        "df2_new['Price'] = df2_new['Price'].astype(float)"
      ],
      "execution_count": 13,
      "outputs": []
    },
    {
      "cell_type": "code",
      "metadata": {
        "id": "Yk94v56nI0CM",
        "colab": {
          "base_uri": "https://localhost:8080/"
        },
        "outputId": "5c973212-d176-4784-f42f-2cb91e6bd397"
      },
      "source": [
        "df2_new.info()"
      ],
      "execution_count": 14,
      "outputs": [
        {
          "output_type": "stream",
          "name": "stdout",
          "text": [
            "<class 'pandas.core.frame.DataFrame'>\n",
            "Int64Index: 9366 entries, 0 to 10840\n",
            "Data columns (total 13 columns):\n",
            " #   Column          Non-Null Count  Dtype         \n",
            "---  ------          --------------  -----         \n",
            " 0   App             9366 non-null   object        \n",
            " 1   Category        9366 non-null   object        \n",
            " 2   Rating          9366 non-null   float64       \n",
            " 3   Reviews         9366 non-null   int64         \n",
            " 4   Size            9366 non-null   int64         \n",
            " 5   Installs        9366 non-null   object        \n",
            " 6   Type            9366 non-null   object        \n",
            " 7   Price           9366 non-null   float64       \n",
            " 8   Content Rating  9366 non-null   object        \n",
            " 9   Genres          9366 non-null   object        \n",
            " 10  Last Updated    9366 non-null   datetime64[ns]\n",
            " 11  Current Ver     9366 non-null   object        \n",
            " 12  Android Ver     9366 non-null   object        \n",
            "dtypes: datetime64[ns](1), float64(2), int64(2), object(8)\n",
            "memory usage: 1.3+ MB\n"
          ]
        }
      ]
    },
    {
      "cell_type": "raw",
      "metadata": {
        "id": "JCIb29-uI0CN"
      },
      "source": [
        "Here we converted various colmn attributes in as following data type :\n",
        " 2   Rating          9366 non-null   float64       \n",
        " 3   Reviews         9366 non-null   int32         \n",
        " 4   Size            9366 non-null   int32               \n",
        " 7   Price           9366 non-null   float64             \n",
        " 10  Last Updated    9366 non-null   datetime64[ns]"
      ]
    },
    {
      "cell_type": "markdown",
      "metadata": {
        "id": "hY0BzUgJI0CO"
      },
      "source": [
        "c. Installs – remove ‘,’ and ‘+’ sign, convert to integer"
      ]
    },
    {
      "cell_type": "code",
      "metadata": {
        "id": "FIl9ErXUI0CP"
      },
      "source": [
        "df2_new['Installs'] = df2_new['Installs'].str.replace('+','')"
      ],
      "execution_count": 15,
      "outputs": []
    },
    {
      "cell_type": "code",
      "metadata": {
        "id": "JprZdKFWI0CQ"
      },
      "source": [
        "df2_new['Installs'] = df2_new['Installs'].str.replace(',', '')"
      ],
      "execution_count": 16,
      "outputs": []
    },
    {
      "cell_type": "code",
      "metadata": {
        "id": "Z1vBufiHI0CR"
      },
      "source": [
        "df2_new['Installs'] = df2_new['Installs'].astype(int)"
      ],
      "execution_count": 17,
      "outputs": []
    },
    {
      "cell_type": "code",
      "metadata": {
        "id": "j0hQAkf3I0CS",
        "colab": {
          "base_uri": "https://localhost:8080/",
          "height": 571
        },
        "outputId": "0d1386e1-876e-4278-d83c-de429ad43e64"
      },
      "source": [
        "df2_new.head(5)"
      ],
      "execution_count": 18,
      "outputs": [
        {
          "output_type": "execute_result",
          "data": {
            "text/html": [
              "<div>\n",
              "<style scoped>\n",
              "    .dataframe tbody tr th:only-of-type {\n",
              "        vertical-align: middle;\n",
              "    }\n",
              "\n",
              "    .dataframe tbody tr th {\n",
              "        vertical-align: top;\n",
              "    }\n",
              "\n",
              "    .dataframe thead th {\n",
              "        text-align: right;\n",
              "    }\n",
              "</style>\n",
              "<table border=\"1\" class=\"dataframe\">\n",
              "  <thead>\n",
              "    <tr style=\"text-align: right;\">\n",
              "      <th></th>\n",
              "      <th>App</th>\n",
              "      <th>Category</th>\n",
              "      <th>Rating</th>\n",
              "      <th>Reviews</th>\n",
              "      <th>Size</th>\n",
              "      <th>Installs</th>\n",
              "      <th>Type</th>\n",
              "      <th>Price</th>\n",
              "      <th>Content Rating</th>\n",
              "      <th>Genres</th>\n",
              "      <th>Last Updated</th>\n",
              "      <th>Current Ver</th>\n",
              "      <th>Android Ver</th>\n",
              "    </tr>\n",
              "  </thead>\n",
              "  <tbody>\n",
              "    <tr>\n",
              "      <th>0</th>\n",
              "      <td>Photo Editor &amp; Candy Camera &amp; Grid &amp; ScrapBook</td>\n",
              "      <td>ART_AND_DESIGN</td>\n",
              "      <td>4.1</td>\n",
              "      <td>159</td>\n",
              "      <td>19000</td>\n",
              "      <td>10000</td>\n",
              "      <td>Free</td>\n",
              "      <td>0.0</td>\n",
              "      <td>Everyone</td>\n",
              "      <td>Art &amp; Design</td>\n",
              "      <td>2018-01-07</td>\n",
              "      <td>1.0.0</td>\n",
              "      <td>4.0.3 and up</td>\n",
              "    </tr>\n",
              "    <tr>\n",
              "      <th>1</th>\n",
              "      <td>Coloring book moana</td>\n",
              "      <td>ART_AND_DESIGN</td>\n",
              "      <td>3.9</td>\n",
              "      <td>967</td>\n",
              "      <td>14000</td>\n",
              "      <td>500000</td>\n",
              "      <td>Free</td>\n",
              "      <td>0.0</td>\n",
              "      <td>Everyone</td>\n",
              "      <td>Art &amp; Design;Pretend Play</td>\n",
              "      <td>2018-01-15</td>\n",
              "      <td>2.0.0</td>\n",
              "      <td>4.0.3 and up</td>\n",
              "    </tr>\n",
              "    <tr>\n",
              "      <th>2</th>\n",
              "      <td>U Launcher Lite – FREE Live Cool Themes, Hide ...</td>\n",
              "      <td>ART_AND_DESIGN</td>\n",
              "      <td>4.7</td>\n",
              "      <td>87510</td>\n",
              "      <td>8700</td>\n",
              "      <td>5000000</td>\n",
              "      <td>Free</td>\n",
              "      <td>0.0</td>\n",
              "      <td>Everyone</td>\n",
              "      <td>Art &amp; Design</td>\n",
              "      <td>2018-08-01</td>\n",
              "      <td>1.2.4</td>\n",
              "      <td>4.0.3 and up</td>\n",
              "    </tr>\n",
              "    <tr>\n",
              "      <th>3</th>\n",
              "      <td>Sketch - Draw &amp; Paint</td>\n",
              "      <td>ART_AND_DESIGN</td>\n",
              "      <td>4.5</td>\n",
              "      <td>215644</td>\n",
              "      <td>25000</td>\n",
              "      <td>50000000</td>\n",
              "      <td>Free</td>\n",
              "      <td>0.0</td>\n",
              "      <td>Teen</td>\n",
              "      <td>Art &amp; Design</td>\n",
              "      <td>2018-06-08</td>\n",
              "      <td>Varies with device</td>\n",
              "      <td>4.2 and up</td>\n",
              "    </tr>\n",
              "    <tr>\n",
              "      <th>4</th>\n",
              "      <td>Pixel Draw - Number Art Coloring Book</td>\n",
              "      <td>ART_AND_DESIGN</td>\n",
              "      <td>4.3</td>\n",
              "      <td>967</td>\n",
              "      <td>2800</td>\n",
              "      <td>100000</td>\n",
              "      <td>Free</td>\n",
              "      <td>0.0</td>\n",
              "      <td>Everyone</td>\n",
              "      <td>Art &amp; Design;Creativity</td>\n",
              "      <td>2018-06-20</td>\n",
              "      <td>1.1</td>\n",
              "      <td>4.4 and up</td>\n",
              "    </tr>\n",
              "  </tbody>\n",
              "</table>\n",
              "</div>"
            ],
            "text/plain": [
              "                                                 App  ...   Android Ver\n",
              "0     Photo Editor & Candy Camera & Grid & ScrapBook  ...  4.0.3 and up\n",
              "1                                Coloring book moana  ...  4.0.3 and up\n",
              "2  U Launcher Lite – FREE Live Cool Themes, Hide ...  ...  4.0.3 and up\n",
              "3                              Sketch - Draw & Paint  ...    4.2 and up\n",
              "4              Pixel Draw - Number Art Coloring Book  ...    4.4 and up\n",
              "\n",
              "[5 rows x 13 columns]"
            ]
          },
          "metadata": {},
          "execution_count": 18
        }
      ]
    },
    {
      "cell_type": "code",
      "metadata": {
        "id": "StOgzd3NI0CT",
        "colab": {
          "base_uri": "https://localhost:8080/"
        },
        "outputId": "da706885-0c52-47ba-8228-e7122f122b39"
      },
      "source": [
        "df2_new.info()"
      ],
      "execution_count": 19,
      "outputs": [
        {
          "output_type": "stream",
          "name": "stdout",
          "text": [
            "<class 'pandas.core.frame.DataFrame'>\n",
            "Int64Index: 9366 entries, 0 to 10840\n",
            "Data columns (total 13 columns):\n",
            " #   Column          Non-Null Count  Dtype         \n",
            "---  ------          --------------  -----         \n",
            " 0   App             9366 non-null   object        \n",
            " 1   Category        9366 non-null   object        \n",
            " 2   Rating          9366 non-null   float64       \n",
            " 3   Reviews         9366 non-null   int64         \n",
            " 4   Size            9366 non-null   int64         \n",
            " 5   Installs        9366 non-null   int64         \n",
            " 6   Type            9366 non-null   object        \n",
            " 7   Price           9366 non-null   float64       \n",
            " 8   Content Rating  9366 non-null   object        \n",
            " 9   Genres          9366 non-null   object        \n",
            " 10  Last Updated    9366 non-null   datetime64[ns]\n",
            " 11  Current Ver     9366 non-null   object        \n",
            " 12  Android Ver     9366 non-null   object        \n",
            "dtypes: datetime64[ns](1), float64(2), int64(3), object(7)\n",
            "memory usage: 1.3+ MB\n"
          ]
        }
      ]
    },
    {
      "cell_type": "raw",
      "metadata": {
        "id": "hgK3YX_6I0CU"
      },
      "source": [
        "Successfully removed + and , sign from colmn Installs as well as change datatype to int as per requirement"
      ]
    },
    {
      "cell_type": "markdown",
      "metadata": {
        "id": "U4TfpO5ZI0CU"
      },
      "source": [
        "# 3. Sanity checks – check for the following and handle accordingly"
      ]
    },
    {
      "cell_type": "markdown",
      "metadata": {
        "id": "clMK0WzgI0CV"
      },
      "source": [
        "a. Avg. rating should be between 1 and 5, as only these values are allowed on the play\n",
        "store."
      ]
    },
    {
      "cell_type": "code",
      "metadata": {
        "id": "AD7MTlEiI0CV",
        "colab": {
          "base_uri": "https://localhost:8080/"
        },
        "outputId": "0933e48d-9512-4b32-8b2f-f3dfceed7098"
      },
      "source": [
        "pd.unique(df2_new[['Rating']].values.ravel())\n",
        "#.ravel()-->return 1D array with all the input-array elements"
      ],
      "execution_count": 21,
      "outputs": [
        {
          "output_type": "execute_result",
          "data": {
            "text/plain": [
              "array([4.1, 3.9, 4.7, 4.5, 4.3, 4.4, 3.8, 4.2, 4.6, 3.2, 4. , 4.8, 4.9,\n",
              "       3.6, 3.7, 3.3, 3.4, 3.5, 3.1, 5. , 2.6, 3. , 1.9, 2.5, 2.8, 2.7,\n",
              "       1. , 2.9, 2.3, 2.2, 1.7, 2. , 1.8, 2.4, 1.6, 2.1, 1.4, 1.5, 1.2])"
            ]
          },
          "metadata": {},
          "execution_count": 21
        }
      ]
    },
    {
      "cell_type": "raw",
      "metadata": {
        "id": "DCwrnupGI0CW"
      },
      "source": [
        "array([4.1, 3.9, 4.7, 4.5, 4.3, 4.4, 3.8, 4.2, 4.6, 3.2, 4. , 4.8, 4.9,\n",
        "       3.6, 3.7, 3.3, 3.4, 3.5, 3.1, 5. , 2.6, 3. , 1.9, 2.5, 2.8, 2.7,\n",
        "       1. , 2.9, 2.3, 2.2, 1.7, 2. , 1.8, 2.4, 1.6, 2.1, 1.4, 1.5, 1.2])\n",
        "Yes all Avg. rating values is in between 1 and 5\n",
        "i. Are there any such records? Drop if so.\n",
        "--> No such record has been oberved."
      ]
    },
    {
      "cell_type": "markdown",
      "metadata": {
        "id": "D8Rz56HbI0CX"
      },
      "source": [
        "b. Reviews should not be more than installs as only those who installed can review the\n",
        "app."
      ]
    },
    {
      "cell_type": "code",
      "metadata": {
        "scrolled": true,
        "id": "aJOrsXmFI0CX",
        "colab": {
          "base_uri": "https://localhost:8080/",
          "height": 571
        },
        "outputId": "7e4b6dda-4d2c-4a94-f251-884ff11f133c"
      },
      "source": [
        "df3 = pd.DataFrame()\n",
        "df3 = df2_new[df2_new.Reviews <= df2_new.Installs]\n",
        "df3.head(5)"
      ],
      "execution_count": 22,
      "outputs": [
        {
          "output_type": "execute_result",
          "data": {
            "text/html": [
              "<div>\n",
              "<style scoped>\n",
              "    .dataframe tbody tr th:only-of-type {\n",
              "        vertical-align: middle;\n",
              "    }\n",
              "\n",
              "    .dataframe tbody tr th {\n",
              "        vertical-align: top;\n",
              "    }\n",
              "\n",
              "    .dataframe thead th {\n",
              "        text-align: right;\n",
              "    }\n",
              "</style>\n",
              "<table border=\"1\" class=\"dataframe\">\n",
              "  <thead>\n",
              "    <tr style=\"text-align: right;\">\n",
              "      <th></th>\n",
              "      <th>App</th>\n",
              "      <th>Category</th>\n",
              "      <th>Rating</th>\n",
              "      <th>Reviews</th>\n",
              "      <th>Size</th>\n",
              "      <th>Installs</th>\n",
              "      <th>Type</th>\n",
              "      <th>Price</th>\n",
              "      <th>Content Rating</th>\n",
              "      <th>Genres</th>\n",
              "      <th>Last Updated</th>\n",
              "      <th>Current Ver</th>\n",
              "      <th>Android Ver</th>\n",
              "    </tr>\n",
              "  </thead>\n",
              "  <tbody>\n",
              "    <tr>\n",
              "      <th>0</th>\n",
              "      <td>Photo Editor &amp; Candy Camera &amp; Grid &amp; ScrapBook</td>\n",
              "      <td>ART_AND_DESIGN</td>\n",
              "      <td>4.1</td>\n",
              "      <td>159</td>\n",
              "      <td>19000</td>\n",
              "      <td>10000</td>\n",
              "      <td>Free</td>\n",
              "      <td>0.0</td>\n",
              "      <td>Everyone</td>\n",
              "      <td>Art &amp; Design</td>\n",
              "      <td>2018-01-07</td>\n",
              "      <td>1.0.0</td>\n",
              "      <td>4.0.3 and up</td>\n",
              "    </tr>\n",
              "    <tr>\n",
              "      <th>1</th>\n",
              "      <td>Coloring book moana</td>\n",
              "      <td>ART_AND_DESIGN</td>\n",
              "      <td>3.9</td>\n",
              "      <td>967</td>\n",
              "      <td>14000</td>\n",
              "      <td>500000</td>\n",
              "      <td>Free</td>\n",
              "      <td>0.0</td>\n",
              "      <td>Everyone</td>\n",
              "      <td>Art &amp; Design;Pretend Play</td>\n",
              "      <td>2018-01-15</td>\n",
              "      <td>2.0.0</td>\n",
              "      <td>4.0.3 and up</td>\n",
              "    </tr>\n",
              "    <tr>\n",
              "      <th>2</th>\n",
              "      <td>U Launcher Lite – FREE Live Cool Themes, Hide ...</td>\n",
              "      <td>ART_AND_DESIGN</td>\n",
              "      <td>4.7</td>\n",
              "      <td>87510</td>\n",
              "      <td>8700</td>\n",
              "      <td>5000000</td>\n",
              "      <td>Free</td>\n",
              "      <td>0.0</td>\n",
              "      <td>Everyone</td>\n",
              "      <td>Art &amp; Design</td>\n",
              "      <td>2018-08-01</td>\n",
              "      <td>1.2.4</td>\n",
              "      <td>4.0.3 and up</td>\n",
              "    </tr>\n",
              "    <tr>\n",
              "      <th>3</th>\n",
              "      <td>Sketch - Draw &amp; Paint</td>\n",
              "      <td>ART_AND_DESIGN</td>\n",
              "      <td>4.5</td>\n",
              "      <td>215644</td>\n",
              "      <td>25000</td>\n",
              "      <td>50000000</td>\n",
              "      <td>Free</td>\n",
              "      <td>0.0</td>\n",
              "      <td>Teen</td>\n",
              "      <td>Art &amp; Design</td>\n",
              "      <td>2018-06-08</td>\n",
              "      <td>Varies with device</td>\n",
              "      <td>4.2 and up</td>\n",
              "    </tr>\n",
              "    <tr>\n",
              "      <th>4</th>\n",
              "      <td>Pixel Draw - Number Art Coloring Book</td>\n",
              "      <td>ART_AND_DESIGN</td>\n",
              "      <td>4.3</td>\n",
              "      <td>967</td>\n",
              "      <td>2800</td>\n",
              "      <td>100000</td>\n",
              "      <td>Free</td>\n",
              "      <td>0.0</td>\n",
              "      <td>Everyone</td>\n",
              "      <td>Art &amp; Design;Creativity</td>\n",
              "      <td>2018-06-20</td>\n",
              "      <td>1.1</td>\n",
              "      <td>4.4 and up</td>\n",
              "    </tr>\n",
              "  </tbody>\n",
              "</table>\n",
              "</div>"
            ],
            "text/plain": [
              "                                                 App  ...   Android Ver\n",
              "0     Photo Editor & Candy Camera & Grid & ScrapBook  ...  4.0.3 and up\n",
              "1                                Coloring book moana  ...  4.0.3 and up\n",
              "2  U Launcher Lite – FREE Live Cool Themes, Hide ...  ...  4.0.3 and up\n",
              "3                              Sketch - Draw & Paint  ...    4.2 and up\n",
              "4              Pixel Draw - Number Art Coloring Book  ...    4.4 and up\n",
              "\n",
              "[5 rows x 13 columns]"
            ]
          },
          "metadata": {},
          "execution_count": 22
        }
      ]
    },
    {
      "cell_type": "code",
      "metadata": {
        "id": "0ec1YoHwI0CZ",
        "colab": {
          "base_uri": "https://localhost:8080/"
        },
        "outputId": "732baaea-7c22-47fb-bf47-84ea40369ae7"
      },
      "source": [
        "df3.shape"
      ],
      "execution_count": 23,
      "outputs": [
        {
          "output_type": "execute_result",
          "data": {
            "text/plain": [
              "(9359, 13)"
            ]
          },
          "metadata": {},
          "execution_count": 23
        }
      ]
    },
    {
      "cell_type": "raw",
      "metadata": {
        "id": "uAd3QeytI0CZ"
      },
      "source": [
        "As per condition we got 9359 rows of data."
      ]
    },
    {
      "cell_type": "markdown",
      "metadata": {
        "id": "POkjCMBCI0Ca"
      },
      "source": [
        "# 4. Identify and handle outliers –"
      ]
    },
    {
      "cell_type": "markdown",
      "metadata": {
        "id": "W3XXvmBLI0Ca"
      },
      "source": [
        "a. Price column"
      ]
    },
    {
      "cell_type": "raw",
      "metadata": {
        "id": "n5henRC4I0Cb"
      },
      "source": [
        "i. Make suitable plot to identify outliers in price"
      ]
    },
    {
      "cell_type": "code",
      "metadata": {
        "id": "HD5gjFPQI0Cb",
        "colab": {
          "base_uri": "https://localhost:8080/",
          "height": 460
        },
        "outputId": "5a302356-34d9-4be1-bd44-4b346255771b"
      },
      "source": [
        "plt.subplots(figsize=(8,6))\n",
        "sns.boxplot(df3.Price)\n",
        "\n",
        "plt.xlabel('Unit Price')\n",
        "plt.title('Unit Price')\n",
        "plt.grid(linestyle='-')\n",
        "plt.show()"
      ],
      "execution_count": 25,
      "outputs": [
        {
          "output_type": "stream",
          "name": "stderr",
          "text": [
            "/usr/local/lib/python3.7/dist-packages/seaborn/_decorators.py:43: FutureWarning: Pass the following variable as a keyword arg: x. From version 0.12, the only valid positional argument will be `data`, and passing other arguments without an explicit keyword will result in an error or misinterpretation.\n",
            "  FutureWarning\n"
          ]
        },
        {
          "output_type": "display_data",
          "data": {
            "image/png": "[encoded data removed]",
            "text/plain": [
              "<Figure size 576x432 with 1 Axes>"
            ]
          },
          "metadata": {
            "needs_background": "light"
          }
        }
      ]
    },
    {
      "cell_type": "raw",
      "metadata": {
        "id": "d6tOeqadI0Cc"
      },
      "source": [
        "As using above boxplot we can observe the outliers in price colmn."
      ]
    },
    {
      "cell_type": "raw",
      "metadata": {
        "id": "pcr66O4UI0Cd"
      },
      "source": [
        "ii. Do you expect apps on the play store to cost $200? Check out these cases"
      ]
    },
    {
      "cell_type": "code",
      "metadata": {
        "id": "X0q8xob_I0Ce",
        "colab": {
          "base_uri": "https://localhost:8080/"
        },
        "outputId": "f72f600d-b791-4f98-acb6-a52f808ca6af"
      },
      "source": [
        "rslt_df = df2_new[df2_new['Price'] == 200]\n",
        "print(rslt_df)\n",
        "# old data analysis (before data cleanning)\n",
        "# rslt_df = data[data['Price'] == '$200.00']\n",
        "# print(rslt_df)"
      ],
      "execution_count": 26,
      "outputs": [
        {
          "output_type": "stream",
          "name": "stdout",
          "text": [
            "Empty DataFrame\n",
            "Columns: [App, Category, Rating, Reviews, Size, Installs, Type, Price, Content Rating, Genres, Last Updated, Current Ver, Android Ver]\n",
            "Index: []\n"
          ]
        }
      ]
    },
    {
      "cell_type": "code",
      "metadata": {
        "id": "r5sy5dTjI0Ch",
        "colab": {
          "base_uri": "https://localhost:8080/",
          "height": 432
        },
        "outputId": "7c12fe16-83b9-4790-d845-30073f1e37af"
      },
      "source": [
        "usful_df = df3[df3['Price'] != 0]\n",
        "# usful_df\n",
        "plt.subplots(figsize=(20,8))\n",
        "sns.boxplot(usful_df.Price)\n",
        "\n",
        "plt.xlabel('Unit Price')\n",
        "plt.title('Unit Price')\n",
        "plt.grid()\n",
        "plt.show()"
      ],
      "execution_count": 27,
      "outputs": [
        {
          "output_type": "stream",
          "name": "stderr",
          "text": [
            "/usr/local/lib/python3.7/dist-packages/seaborn/_decorators.py:43: FutureWarning: Pass the following variable as a keyword arg: x. From version 0.12, the only valid positional argument will be `data`, and passing other arguments without an explicit keyword will result in an error or misinterpretation.\n",
            "  FutureWarning\n"
          ]
        },
        {
          "output_type": "display_data",
          "data": {
            "image/png": "[encoded data removed]",
            "text/plain": [
              "<Figure size 1440x576 with 1 Axes>"
            ]
          },
          "metadata": {
            "needs_background": "light"
          }
        }
      ]
    },
    {
      "cell_type": "raw",
      "metadata": {
        "id": "KH2AsKS2I0Ci"
      },
      "source": [
        "iv. Limit data to records with price < $30"
      ]
    },
    {
      "cell_type": "code",
      "metadata": {
        "id": "1mUdiZqvI0Cj",
        "colab": {
          "base_uri": "https://localhost:8080/",
          "height": 571
        },
        "outputId": "eb0c836c-679e-44e0-cda5-f47f27c19835"
      },
      "source": [
        "limit_data = df3[df3['Price'] < 30]\n",
        "limit_data.head(5)"
      ],
      "execution_count": 28,
      "outputs": [
        {
          "output_type": "execute_result",
          "data": {
            "text/html": [
              "<div>\n",
              "<style scoped>\n",
              "    .dataframe tbody tr th:only-of-type {\n",
              "        vertical-align: middle;\n",
              "    }\n",
              "\n",
              "    .dataframe tbody tr th {\n",
              "        vertical-align: top;\n",
              "    }\n",
              "\n",
              "    .dataframe thead th {\n",
              "        text-align: right;\n",
              "    }\n",
              "</style>\n",
              "<table border=\"1\" class=\"dataframe\">\n",
              "  <thead>\n",
              "    <tr style=\"text-align: right;\">\n",
              "      <th></th>\n",
              "      <th>App</th>\n",
              "      <th>Category</th>\n",
              "      <th>Rating</th>\n",
              "      <th>Reviews</th>\n",
              "      <th>Size</th>\n",
              "      <th>Installs</th>\n",
              "      <th>Type</th>\n",
              "      <th>Price</th>\n",
              "      <th>Content Rating</th>\n",
              "      <th>Genres</th>\n",
              "      <th>Last Updated</th>\n",
              "      <th>Current Ver</th>\n",
              "      <th>Android Ver</th>\n",
              "    </tr>\n",
              "  </thead>\n",
              "  <tbody>\n",
              "    <tr>\n",
              "      <th>0</th>\n",
              "      <td>Photo Editor &amp; Candy Camera &amp; Grid &amp; ScrapBook</td>\n",
              "      <td>ART_AND_DESIGN</td>\n",
              "      <td>4.1</td>\n",
              "      <td>159</td>\n",
              "      <td>19000</td>\n",
              "      <td>10000</td>\n",
              "      <td>Free</td>\n",
              "      <td>0.0</td>\n",
              "      <td>Everyone</td>\n",
              "      <td>Art &amp; Design</td>\n",
              "      <td>2018-01-07</td>\n",
              "      <td>1.0.0</td>\n",
              "      <td>4.0.3 and up</td>\n",
              "    </tr>\n",
              "    <tr>\n",
              "      <th>1</th>\n",
              "      <td>Coloring book moana</td>\n",
              "      <td>ART_AND_DESIGN</td>\n",
              "      <td>3.9</td>\n",
              "      <td>967</td>\n",
              "      <td>14000</td>\n",
              "      <td>500000</td>\n",
              "      <td>Free</td>\n",
              "      <td>0.0</td>\n",
              "      <td>Everyone</td>\n",
              "      <td>Art &amp; Design;Pretend Play</td>\n",
              "      <td>2018-01-15</td>\n",
              "      <td>2.0.0</td>\n",
              "      <td>4.0.3 and up</td>\n",
              "    </tr>\n",
              "    <tr>\n",
              "      <th>2</th>\n",
              "      <td>U Launcher Lite – FREE Live Cool Themes, Hide ...</td>\n",
              "      <td>ART_AND_DESIGN</td>\n",
              "      <td>4.7</td>\n",
              "      <td>87510</td>\n",
              "      <td>8700</td>\n",
              "      <td>5000000</td>\n",
              "      <td>Free</td>\n",
              "      <td>0.0</td>\n",
              "      <td>Everyone</td>\n",
              "      <td>Art &amp; Design</td>\n",
              "      <td>2018-08-01</td>\n",
              "      <td>1.2.4</td>\n",
              "      <td>4.0.3 and up</td>\n",
              "    </tr>\n",
              "    <tr>\n",
              "      <th>3</th>\n",
              "      <td>Sketch - Draw &amp; Paint</td>\n",
              "      <td>ART_AND_DESIGN</td>\n",
              "      <td>4.5</td>\n",
              "      <td>215644</td>\n",
              "      <td>25000</td>\n",
              "      <td>50000000</td>\n",
              "      <td>Free</td>\n",
              "      <td>0.0</td>\n",
              "      <td>Teen</td>\n",
              "      <td>Art &amp; Design</td>\n",
              "      <td>2018-06-08</td>\n",
              "      <td>Varies with device</td>\n",
              "      <td>4.2 and up</td>\n",
              "    </tr>\n",
              "    <tr>\n",
              "      <th>4</th>\n",
              "      <td>Pixel Draw - Number Art Coloring Book</td>\n",
              "      <td>ART_AND_DESIGN</td>\n",
              "      <td>4.3</td>\n",
              "      <td>967</td>\n",
              "      <td>2800</td>\n",
              "      <td>100000</td>\n",
              "      <td>Free</td>\n",
              "      <td>0.0</td>\n",
              "      <td>Everyone</td>\n",
              "      <td>Art &amp; Design;Creativity</td>\n",
              "      <td>2018-06-20</td>\n",
              "      <td>1.1</td>\n",
              "      <td>4.4 and up</td>\n",
              "    </tr>\n",
              "  </tbody>\n",
              "</table>\n",
              "</div>"
            ],
            "text/plain": [
              "                                                 App  ...   Android Ver\n",
              "0     Photo Editor & Candy Camera & Grid & ScrapBook  ...  4.0.3 and up\n",
              "1                                Coloring book moana  ...  4.0.3 and up\n",
              "2  U Launcher Lite – FREE Live Cool Themes, Hide ...  ...  4.0.3 and up\n",
              "3                              Sketch - Draw & Paint  ...    4.2 and up\n",
              "4              Pixel Draw - Number Art Coloring Book  ...    4.4 and up\n",
              "\n",
              "[5 rows x 13 columns]"
            ]
          },
          "metadata": {},
          "execution_count": 28
        }
      ]
    },
    {
      "cell_type": "code",
      "metadata": {
        "id": "P5e8EWWQI0Ck",
        "colab": {
          "base_uri": "https://localhost:8080/"
        },
        "outputId": "beb017bb-9d39-4b3b-e2f2-347feb461d22"
      },
      "source": [
        "limit_data.shape"
      ],
      "execution_count": 29,
      "outputs": [
        {
          "output_type": "execute_result",
          "data": {
            "text/plain": [
              "(9338, 13)"
            ]
          },
          "metadata": {},
          "execution_count": 29
        }
      ]
    },
    {
      "cell_type": "markdown",
      "metadata": {
        "id": "Go2EndLfI0Cl"
      },
      "source": [
        "b. Reviews column"
      ]
    },
    {
      "cell_type": "raw",
      "metadata": {
        "id": "D-rCdNDvI0Cm"
      },
      "source": [
        "i. Make suitable plot"
      ]
    },
    {
      "cell_type": "code",
      "metadata": {
        "id": "2Vj4_r8CI0Cm",
        "colab": {
          "base_uri": "https://localhost:8080/",
          "height": 1000
        },
        "outputId": "ee999e59-1d64-4cdf-bb3b-8d3d374f2321"
      },
      "source": [
        "total=df3.groupby('Category')['Reviews'].sum().sort_values()\n",
        "plt.subplots(figsize=(15,8))\n",
        "total.plot(kind='barh', fontsize=14)\n",
        "print(total.sort_values(ascending=False))\n",
        "plt.show()\n"
      ],
      "execution_count": 30,
      "outputs": [
        {
          "output_type": "stream",
          "name": "stdout",
          "text": [
            "Category\n",
            "GAME                   1585419555\n",
            "COMMUNICATION           815461799\n",
            "SOCIAL                  621241071\n",
            "FAMILY                  410223081\n",
            "TOOLS                   273184168\n",
            "PHOTOGRAPHY             213516607\n",
            "SHOPPING                115041033\n",
            "PRODUCTIVITY            114116717\n",
            "VIDEO_PLAYERS           110379692\n",
            "PERSONALIZATION          89345815\n",
            "SPORTS                   70829568\n",
            "TRAVEL_AND_LOCAL         62617772\n",
            "ENTERTAINMENT            59178154\n",
            "NEWS_AND_MAGAZINES       54399899\n",
            "EDUCATION                39595010\n",
            "HEALTH_AND_FITNESS       37893622\n",
            "MAPS_AND_NAVIGATION      30659060\n",
            "BOOKS_AND_REFERENCE      21958660\n",
            "FINANCE                  17550406\n",
            "WEATHER                  14604695\n",
            "BUSINESS                 13954086\n",
            "LIFESTYLE                12871520\n",
            "FOOD_AND_DRINK            8883009\n",
            "DATING                    7291039\n",
            "HOUSE_AND_HOME            3976004\n",
            "COMICS                    3381945\n",
            "ART_AND_DESIGN            1714372\n",
            "MEDICAL                   1585618\n",
            "AUTO_AND_VEHICLES         1163630\n",
            "LIBRARIES_AND_DEMO        1033535\n",
            "PARENTING                  953609\n",
            "BEAUTY                     395133\n",
            "EVENTS                     160590\n",
            "Name: Reviews, dtype: int64\n"
          ]
        },
        {
          "output_type": "display_data",
          "data": {
            "image/png": "[encoded data removed]",
            "text/plain": [
              "<Figure size 1080x576 with 1 Axes>"
            ]
          },
          "metadata": {
            "needs_background": "light"
          }
        }
      ]
    },
    {
      "cell_type": "raw",
      "metadata": {
        "id": "_XRXaTRNI0Cn"
      },
      "source": [
        "Top 5 Reviewed Apps by Category\n",
        "\n",
        "Category\n",
        "GAME                   1585419555\n",
        "COMMUNICATION           815461799\n",
        "SOCIAL                  621241071\n",
        "FAMILY                  410223081\n",
        "TOOLS                   273184168"
      ]
    },
    {
      "cell_type": "raw",
      "metadata": {
        "id": "LN7CvYmrI0Co"
      },
      "source": [
        "ii. Limit data to apps with < 1 Million reviews"
      ]
    },
    {
      "cell_type": "code",
      "metadata": {
        "id": "c2zcrSjbI0Co",
        "colab": {
          "base_uri": "https://localhost:8080/",
          "height": 571
        },
        "outputId": "0bd0508d-6592-42be-b2ec-c7c3f2223cc3"
      },
      "source": [
        "limit_data_by_review = df3[df3['Reviews'] < 1000000]\n",
        "limit_data_by_review.head(5)"
      ],
      "execution_count": 31,
      "outputs": [
        {
          "output_type": "execute_result",
          "data": {
            "text/html": [
              "<div>\n",
              "<style scoped>\n",
              "    .dataframe tbody tr th:only-of-type {\n",
              "        vertical-align: middle;\n",
              "    }\n",
              "\n",
              "    .dataframe tbody tr th {\n",
              "        vertical-align: top;\n",
              "    }\n",
              "\n",
              "    .dataframe thead th {\n",
              "        text-align: right;\n",
              "    }\n",
              "</style>\n",
              "<table border=\"1\" class=\"dataframe\">\n",
              "  <thead>\n",
              "    <tr style=\"text-align: right;\">\n",
              "      <th></th>\n",
              "      <th>App</th>\n",
              "      <th>Category</th>\n",
              "      <th>Rating</th>\n",
              "      <th>Reviews</th>\n",
              "      <th>Size</th>\n",
              "      <th>Installs</th>\n",
              "      <th>Type</th>\n",
              "      <th>Price</th>\n",
              "      <th>Content Rating</th>\n",
              "      <th>Genres</th>\n",
              "      <th>Last Updated</th>\n",
              "      <th>Current Ver</th>\n",
              "      <th>Android Ver</th>\n",
              "    </tr>\n",
              "  </thead>\n",
              "  <tbody>\n",
              "    <tr>\n",
              "      <th>0</th>\n",
              "      <td>Photo Editor &amp; Candy Camera &amp; Grid &amp; ScrapBook</td>\n",
              "      <td>ART_AND_DESIGN</td>\n",
              "      <td>4.1</td>\n",
              "      <td>159</td>\n",
              "      <td>19000</td>\n",
              "      <td>10000</td>\n",
              "      <td>Free</td>\n",
              "      <td>0.0</td>\n",
              "      <td>Everyone</td>\n",
              "      <td>Art &amp; Design</td>\n",
              "      <td>2018-01-07</td>\n",
              "      <td>1.0.0</td>\n",
              "      <td>4.0.3 and up</td>\n",
              "    </tr>\n",
              "    <tr>\n",
              "      <th>1</th>\n",
              "      <td>Coloring book moana</td>\n",
              "      <td>ART_AND_DESIGN</td>\n",
              "      <td>3.9</td>\n",
              "      <td>967</td>\n",
              "      <td>14000</td>\n",
              "      <td>500000</td>\n",
              "      <td>Free</td>\n",
              "      <td>0.0</td>\n",
              "      <td>Everyone</td>\n",
              "      <td>Art &amp; Design;Pretend Play</td>\n",
              "      <td>2018-01-15</td>\n",
              "      <td>2.0.0</td>\n",
              "      <td>4.0.3 and up</td>\n",
              "    </tr>\n",
              "    <tr>\n",
              "      <th>2</th>\n",
              "      <td>U Launcher Lite – FREE Live Cool Themes, Hide ...</td>\n",
              "      <td>ART_AND_DESIGN</td>\n",
              "      <td>4.7</td>\n",
              "      <td>87510</td>\n",
              "      <td>8700</td>\n",
              "      <td>5000000</td>\n",
              "      <td>Free</td>\n",
              "      <td>0.0</td>\n",
              "      <td>Everyone</td>\n",
              "      <td>Art &amp; Design</td>\n",
              "      <td>2018-08-01</td>\n",
              "      <td>1.2.4</td>\n",
              "      <td>4.0.3 and up</td>\n",
              "    </tr>\n",
              "    <tr>\n",
              "      <th>3</th>\n",
              "      <td>Sketch - Draw &amp; Paint</td>\n",
              "      <td>ART_AND_DESIGN</td>\n",
              "      <td>4.5</td>\n",
              "      <td>215644</td>\n",
              "      <td>25000</td>\n",
              "      <td>50000000</td>\n",
              "      <td>Free</td>\n",
              "      <td>0.0</td>\n",
              "      <td>Teen</td>\n",
              "      <td>Art &amp; Design</td>\n",
              "      <td>2018-06-08</td>\n",
              "      <td>Varies with device</td>\n",
              "      <td>4.2 and up</td>\n",
              "    </tr>\n",
              "    <tr>\n",
              "      <th>4</th>\n",
              "      <td>Pixel Draw - Number Art Coloring Book</td>\n",
              "      <td>ART_AND_DESIGN</td>\n",
              "      <td>4.3</td>\n",
              "      <td>967</td>\n",
              "      <td>2800</td>\n",
              "      <td>100000</td>\n",
              "      <td>Free</td>\n",
              "      <td>0.0</td>\n",
              "      <td>Everyone</td>\n",
              "      <td>Art &amp; Design;Creativity</td>\n",
              "      <td>2018-06-20</td>\n",
              "      <td>1.1</td>\n",
              "      <td>4.4 and up</td>\n",
              "    </tr>\n",
              "  </tbody>\n",
              "</table>\n",
              "</div>"
            ],
            "text/plain": [
              "                                                 App  ...   Android Ver\n",
              "0     Photo Editor & Candy Camera & Grid & ScrapBook  ...  4.0.3 and up\n",
              "1                                Coloring book moana  ...  4.0.3 and up\n",
              "2  U Launcher Lite – FREE Live Cool Themes, Hide ...  ...  4.0.3 and up\n",
              "3                              Sketch - Draw & Paint  ...    4.2 and up\n",
              "4              Pixel Draw - Number Art Coloring Book  ...    4.4 and up\n",
              "\n",
              "[5 rows x 13 columns]"
            ]
          },
          "metadata": {},
          "execution_count": 31
        }
      ]
    },
    {
      "cell_type": "code",
      "metadata": {
        "id": "I0s3qcmMI0Cp",
        "colab": {
          "base_uri": "https://localhost:8080/"
        },
        "outputId": "f468d892-a98f-491f-a852-f28e7d9fd3a1"
      },
      "source": [
        "limit_data_by_review.shape"
      ],
      "execution_count": 32,
      "outputs": [
        {
          "output_type": "execute_result",
          "data": {
            "text/plain": [
              "(8655, 13)"
            ]
          },
          "metadata": {},
          "execution_count": 32
        }
      ]
    },
    {
      "cell_type": "raw",
      "metadata": {
        "id": "9dlqBQI5I0Cq"
      },
      "source": [
        "We found 8655 rows of limited data to apps with < 1 Million reviews"
      ]
    },
    {
      "cell_type": "markdown",
      "metadata": {
        "id": "W9idQBrNI0Cq"
      },
      "source": [
        "c. Installs"
      ]
    },
    {
      "cell_type": "raw",
      "metadata": {
        "id": "Y8t6xVv-I0Cr"
      },
      "source": [
        "i. What is the 95th percentile of the installs?"
      ]
    },
    {
      "cell_type": "code",
      "metadata": {
        "id": "bHLt36BaI0Cr",
        "colab": {
          "base_uri": "https://localhost:8080/"
        },
        "outputId": "16eb5a80-9c15-4534-f542-ef77befad552"
      },
      "source": [
        "val = df3.Installs.quantile(0.95) # 95th percentile\n",
        "print(val)"
      ],
      "execution_count": 33,
      "outputs": [
        {
          "output_type": "stream",
          "name": "stdout",
          "text": [
            "100000000.0\n"
          ]
        }
      ]
    },
    {
      "cell_type": "raw",
      "metadata": {
        "id": "npDTRKj8I0Cs"
      },
      "source": [
        "95th percentile of the installs is 100000000.0"
      ]
    },
    {
      "cell_type": "raw",
      "metadata": {
        "id": "pVwQs6cyI0Cs"
      },
      "source": [
        "ii. Drop records having a value more than the 95th percentile"
      ]
    },
    {
      "cell_type": "code",
      "metadata": {
        "id": "Ot4BCJimI0Ct",
        "colab": {
          "base_uri": "https://localhost:8080/"
        },
        "outputId": "f08a5288-7014-42e6-e9b9-ada9d58fbc9e"
      },
      "source": [
        "# Verification\n",
        "x = df3.Installs.quantile() > val\n",
        "print (x)"
      ],
      "execution_count": 34,
      "outputs": [
        {
          "output_type": "stream",
          "name": "stdout",
          "text": [
            "False\n"
          ]
        }
      ]
    },
    {
      "cell_type": "raw",
      "metadata": {
        "id": "nmAwOm5aI0Cu"
      },
      "source": [
        "There is no value more than the 95th percentile."
      ]
    },
    {
      "cell_type": "markdown",
      "metadata": {
        "id": "vIUeBgCFI0Cu"
      },
      "source": [
        "# Data analysis to answer business questions"
      ]
    },
    {
      "cell_type": "markdown",
      "metadata": {
        "id": "0U4ahWyZI0Cv"
      },
      "source": [
        "5. What is the distribution of ratings like? (use Seaborn) More skewed towards higher/lower\n",
        "values?"
      ]
    },
    {
      "cell_type": "code",
      "metadata": {
        "id": "VJmhBkC9I0Cv",
        "colab": {
          "base_uri": "https://localhost:8080/",
          "height": 335
        },
        "outputId": "6b4b2ee1-b3df-4b8f-eef2-6c82c50aabe7"
      },
      "source": [
        "sns.distplot(df3['Rating'])\n",
        "plt.show()"
      ],
      "execution_count": 35,
      "outputs": [
        {
          "output_type": "stream",
          "name": "stderr",
          "text": [
            "/usr/local/lib/python3.7/dist-packages/seaborn/distributions.py:2619: FutureWarning: `distplot` is a deprecated function and will be removed in a future version. Please adapt your code to use either `displot` (a figure-level function with similar flexibility) or `histplot` (an axes-level function for histograms).\n",
            "  warnings.warn(msg, FutureWarning)\n"
          ]
        },
        {
          "output_type": "display_data",
          "data": {
            "image/png": "[encoded data removed]",
            "text/plain": [
              "<Figure size 432x288 with 1 Axes>"
            ]
          },
          "metadata": {
            "needs_background": "light"
          }
        }
      ]
    },
    {
      "cell_type": "raw",
      "metadata": {
        "id": "cdlyiLd5I0Cw"
      },
      "source": [
        "A left skewed distribution is sometimes called a negatively skewed distribution because it’s long tail is on the negative direction on a number line.The mean is also on the left of the peak.\n"
      ]
    },
    {
      "cell_type": "markdown",
      "metadata": {
        "id": "RuXUMr4AI0Cx"
      },
      "source": [
        "![image.png](attachment:image.png)"
      ]
    },
    {
      "cell_type": "raw",
      "metadata": {
        "id": "KTmM70LCI0Cx"
      },
      "source": [
        "Here you can see three measures position on the plot. So, you will find that:\n",
        "mean less than the mode\n",
        "median less than the mode\n",
        "mean less than median\n",
        "\n",
        "Here the distribution tells that most of the rating is in between 4 to 5."
      ]
    },
    {
      "cell_type": "markdown",
      "metadata": {
        "id": "E2hSU9eTI0Cy"
      },
      "source": [
        "b. What is the implication of this on your analysis?"
      ]
    },
    {
      "cell_type": "raw",
      "metadata": {
        "id": "UDOuqCOwI0Cz"
      },
      "source": [
        "Real life distributions are usually skewed. If there are too much skewness in the data, then many statistical model don’t work.\n",
        "So in skewed data, the tail region may act as an outlier for the statistical model and we know that outliers adversely affect the model’s performance especially regression-based models.\n",
        "So there is a necessity to transform the skewed data to close enough to a Gaussian distribution or Normal distribution. This will allow us to try more number of statistical model.\n",
        "\n",
        "Conclusion:\n",
        "If we have a skewed data then it may harm our results. So, in order to use a skewed data we have to apply a log transformation over the whole set of values to discover patterns in the data and make it usable for the statistical model."
      ]
    },
    {
      "cell_type": "markdown",
      "metadata": {
        "id": "IupAk_zfI0C0"
      },
      "source": [
        "6. What are the top Content Rating values?"
      ]
    },
    {
      "cell_type": "code",
      "metadata": {
        "id": "DPFV7KyXI0C1",
        "colab": {
          "base_uri": "https://localhost:8080/"
        },
        "outputId": "ddb544ac-d01d-4ac5-9f3a-2d10ffbef81e"
      },
      "source": [
        "df3['Content Rating'].value_counts()"
      ],
      "execution_count": 36,
      "outputs": [
        {
          "output_type": "execute_result",
          "data": {
            "text/plain": [
              "Everyone           7414\n",
              "Teen               1083\n",
              "Mature 17+          461\n",
              "Everyone 10+        397\n",
              "Adults only 18+       3\n",
              "Unrated               1\n",
              "Name: Content Rating, dtype: int64"
            ]
          },
          "metadata": {},
          "execution_count": 36
        }
      ]
    },
    {
      "cell_type": "raw",
      "metadata": {
        "id": "FepxaAo0I0C2"
      },
      "source": [
        "top Content Rating values :\n",
        "\n",
        "Content Rating\n",
        "Everyone           7414\n",
        "Teen               1083\n",
        "Mature 17+          461\n",
        "Everyone 10+        397\n",
        "Adults only 18+       3\n",
        "Unrated               1"
      ]
    },
    {
      "cell_type": "raw",
      "metadata": {
        "id": "R70VIGf2I0C2"
      },
      "source": [
        "a. Are there any values with very few records?\n",
        "Yes. 'Unrated' Content Rating has value 1 and Adults only 18+ -->3"
      ]
    },
    {
      "cell_type": "code",
      "metadata": {
        "id": "C664boVyI0C3",
        "colab": {
          "base_uri": "https://localhost:8080/"
        },
        "outputId": "c0473315-85ef-4ae9-9a16-a65013fc3e91"
      },
      "source": [
        "Adult_rating = df3[df3['Content Rating'] == 'Adults only 18+'].index.to_list()\n",
        "unrated =df3[df3['Content Rating'] == 'Unrated'].index.to_list()\n",
        "df3.drop(Adult_rating, inplace = True)\n",
        "df3.drop(unrated, inplace = True)\n",
        "df3['Content Rating'].value_counts()"
      ],
      "execution_count": 37,
      "outputs": [
        {
          "output_type": "stream",
          "name": "stderr",
          "text": [
            "/usr/local/lib/python3.7/dist-packages/pandas/core/frame.py:4174: SettingWithCopyWarning: \n",
            "A value is trying to be set on a copy of a slice from a DataFrame\n",
            "\n",
            "See the caveats in the documentation: https://pandas.pydata.org/pandas-docs/stable/user_guide/indexing.html#returning-a-view-versus-a-copy\n",
            "  errors=errors,\n"
          ]
        },
        {
          "output_type": "execute_result",
          "data": {
            "text/plain": [
              "Everyone        7414\n",
              "Teen            1083\n",
              "Mature 17+       461\n",
              "Everyone 10+     397\n",
              "Name: Content Rating, dtype: int64"
            ]
          },
          "metadata": {},
          "execution_count": 37
        }
      ]
    },
    {
      "cell_type": "code",
      "metadata": {
        "id": "GqBDM7WYI0C5",
        "colab": {
          "base_uri": "https://localhost:8080/",
          "height": 542
        },
        "outputId": "e9345ab4-9a87-46cf-df79-98a54ee39531"
      },
      "source": [
        "# Pie Diagram\n",
        "import plotly.graph_objects as go\n",
        "\n",
        "fig = go.Figure(go.Pie(\n",
        "    name = \"Pie plot\",\n",
        "    values = [7414,1083,461,397],\n",
        "    labels = ['Everyone','Teen','Mature 17+','Everyone 10+'],\n",
        "))\n",
        "fig.show()"
      ],
      "execution_count": 38,
      "outputs": [
        {
          "output_type": "display_data",
          "data": {
            "text/html": [
              "<html>\n",
              "<head><meta charset=\"utf-8\" /></head>\n",
              "<body>\n",
              "    <div>\n",
              "            <script src=\"https://cdnjs.cloudflare.com/ajax/libs/mathjax/2.7.5/MathJax.js?config=TeX-AMS-MML_SVG\"></script><script type=\"text/javascript\">if (window.MathJax) {MathJax.Hub.Config({SVG: {font: \"STIX-Web\"}});}</script>\n",
              "                <script type=\"text/javascript\">window.PlotlyConfig = {MathJaxConfig: 'local'};</script>\n",
              "        <script src=\"https://cdn.plot.ly/plotly-latest.min.js\"></script>    \n",
              "            <div id=\"70b6dfd5-6223-4436-9fd7-faa6b1322628\" class=\"plotly-graph-div\" style=\"height:525px; width:100%;\"></div>\n",
              "            <script type=\"text/javascript\">\n",
              "                \n",
              "                    window.PLOTLYENV=window.PLOTLYENV || {};\n",
              "                    \n",
              "                if (document.getElementById(\"70b6dfd5-6223-4436-9fd7-faa6b1322628\")) {\n",
              "                    Plotly.newPlot(\n",
              "                        '70b6dfd5-6223-4436-9fd7-faa6b1322628',\n",
              "                        [{\"labels\": [\"Everyone\", \"Teen\", \"Mature 17+\", \"Everyone 10+\"], \"name\": \"Pie plot\", \"type\": \"pie\", \"values\": [7414, 1083, 461, 397]}],\n",
              "                        {\"template\": {\"data\": {\"bar\": [{\"error_x\": {\"color\": \"#2a3f5f\"}, \"error_y\": {\"color\": \"#2a3f5f\"}, \"marker\": {\"line\": {\"color\": \"#E5ECF6\", \"width\": 0.5}}, \"type\": \"bar\"}], \"barpolar\": [{\"marker\": {\"line\": {\"color\": \"#E5ECF6\", \"width\": 0.5}}, \"type\": \"barpolar\"}], \"carpet\": [{\"aaxis\": {\"endlinecolor\": \"#2a3f5f\", \"gridcolor\": \"white\", \"linecolor\": \"white\", \"minorgridcolor\": \"white\", \"startlinecolor\": \"#2a3f5f\"}, \"baxis\": {\"endlinecolor\": \"#2a3f5f\", \"gridcolor\": \"white\", \"linecolor\": \"white\", \"minorgridcolor\": \"white\", \"startlinecolor\": \"#2a3f5f\"}, \"type\": \"carpet\"}], \"choropleth\": [{\"colorbar\": {\"outlinewidth\": 0, \"ticks\": \"\"}, \"type\": \"choropleth\"}], \"contour\": [{\"colorbar\": {\"outlinewidth\": 0, \"ticks\": \"\"}, \"colorscale\": [[0.0, \"#0d0887\"], [0.1111111111111111, \"#46039f\"], [0.2222222222222222, \"#7201a8\"], [0.3333333333333333, \"#9c179e\"], [0.4444444444444444, \"#bd3786\"], [0.5555555555555556, \"#d8576b\"], [0.6666666666666666, \"#ed7953\"], [0.7777777777777778, \"#fb9f3a\"], [0.8888888888888888, \"#fdca26\"], [1.0, \"#f0f921\"]], \"type\": \"contour\"}], \"contourcarpet\": [{\"colorbar\": {\"outlinewidth\": 0, \"ticks\": \"\"}, \"type\": \"contourcarpet\"}], \"heatmap\": [{\"colorbar\": {\"outlinewidth\": 0, \"ticks\": \"\"}, \"colorscale\": [[0.0, \"#0d0887\"], [0.1111111111111111, \"#46039f\"], [0.2222222222222222, \"#7201a8\"], [0.3333333333333333, \"#9c179e\"], [0.4444444444444444, \"#bd3786\"], [0.5555555555555556, \"#d8576b\"], [0.6666666666666666, \"#ed7953\"], [0.7777777777777778, \"#fb9f3a\"], [0.8888888888888888, \"#fdca26\"], [1.0, \"#f0f921\"]], \"type\": \"heatmap\"}], \"heatmapgl\": [{\"colorbar\": {\"outlinewidth\": 0, \"ticks\": \"\"}, \"colorscale\": [[0.0, \"#0d0887\"], [0.1111111111111111, \"#46039f\"], [0.2222222222222222, \"#7201a8\"], [0.3333333333333333, \"#9c179e\"], [0.4444444444444444, \"#bd3786\"], [0.5555555555555556, \"#d8576b\"], [0.6666666666666666, \"#ed7953\"], [0.7777777777777778, \"#fb9f3a\"], [0.8888888888888888, \"#fdca26\"], [1.0, \"#f0f921\"]], \"type\": \"heatmapgl\"}], \"histogram\": [{\"marker\": {\"colorbar\": {\"outlinewidth\": 0, \"ticks\": \"\"}}, \"type\": \"histogram\"}], \"histogram2d\": [{\"colorbar\": {\"outlinewidth\": 0, \"ticks\": \"\"}, \"colorscale\": [[0.0, \"#0d0887\"], [0.1111111111111111, \"#46039f\"], [0.2222222222222222, \"#7201a8\"], [0.3333333333333333, \"#9c179e\"], [0.4444444444444444, \"#bd3786\"], [0.5555555555555556, \"#d8576b\"], [0.6666666666666666, \"#ed7953\"], [0.7777777777777778, \"#fb9f3a\"], [0.8888888888888888, \"#fdca26\"], [1.0, \"#f0f921\"]], \"type\": \"histogram2d\"}], \"histogram2dcontour\": [{\"colorbar\": {\"outlinewidth\": 0, \"ticks\": \"\"}, \"colorscale\": [[0.0, \"#0d0887\"], [0.1111111111111111, \"#46039f\"], [0.2222222222222222, \"#7201a8\"], [0.3333333333333333, \"#9c179e\"], [0.4444444444444444, \"#bd3786\"], [0.5555555555555556, \"#d8576b\"], [0.6666666666666666, \"#ed7953\"], [0.7777777777777778, \"#fb9f3a\"], [0.8888888888888888, \"#fdca26\"], [1.0, \"#f0f921\"]], \"type\": \"histogram2dcontour\"}], \"mesh3d\": [{\"colorbar\": {\"outlinewidth\": 0, \"ticks\": \"\"}, \"type\": \"mesh3d\"}], \"parcoords\": [{\"line\": {\"colorbar\": {\"outlinewidth\": 0, \"ticks\": \"\"}}, \"type\": \"parcoords\"}], \"pie\": [{\"automargin\": true, \"type\": \"pie\"}], \"scatter\": [{\"marker\": {\"colorbar\": {\"outlinewidth\": 0, \"ticks\": \"\"}}, \"type\": \"scatter\"}], \"scatter3d\": [{\"line\": {\"colorbar\": {\"outlinewidth\": 0, \"ticks\": \"\"}}, \"marker\": {\"colorbar\": {\"outlinewidth\": 0, \"ticks\": \"\"}}, \"type\": \"scatter3d\"}], \"scattercarpet\": [{\"marker\": {\"colorbar\": {\"outlinewidth\": 0, \"ticks\": \"\"}}, \"type\": \"scattercarpet\"}], \"scattergeo\": [{\"marker\": {\"colorbar\": {\"outlinewidth\": 0, \"ticks\": \"\"}}, \"type\": \"scattergeo\"}], \"scattergl\": [{\"marker\": {\"colorbar\": {\"outlinewidth\": 0, \"ticks\": \"\"}}, \"type\": \"scattergl\"}], \"scattermapbox\": [{\"marker\": {\"colorbar\": {\"outlinewidth\": 0, \"ticks\": \"\"}}, \"type\": \"scattermapbox\"}], \"scatterpolar\": [{\"marker\": {\"colorbar\": {\"outlinewidth\": 0, \"ticks\": \"\"}}, \"type\": \"scatterpolar\"}], \"scatterpolargl\": [{\"marker\": {\"colorbar\": {\"outlinewidth\": 0, \"ticks\": \"\"}}, \"type\": \"scatterpolargl\"}], \"scatterternary\": [{\"marker\": {\"colorbar\": {\"outlinewidth\": 0, \"ticks\": \"\"}}, \"type\": \"scatterternary\"}], \"surface\": [{\"colorbar\": {\"outlinewidth\": 0, \"ticks\": \"\"}, \"colorscale\": [[0.0, \"#0d0887\"], [0.1111111111111111, \"#46039f\"], [0.2222222222222222, \"#7201a8\"], [0.3333333333333333, \"#9c179e\"], [0.4444444444444444, \"#bd3786\"], [0.5555555555555556, \"#d8576b\"], [0.6666666666666666, \"#ed7953\"], [0.7777777777777778, \"#fb9f3a\"], [0.8888888888888888, \"#fdca26\"], [1.0, \"#f0f921\"]], \"type\": \"surface\"}], \"table\": [{\"cells\": {\"fill\": {\"color\": \"#EBF0F8\"}, \"line\": {\"color\": \"white\"}}, \"header\": {\"fill\": {\"color\": \"#C8D4E3\"}, \"line\": {\"color\": \"white\"}}, \"type\": \"table\"}]}, \"layout\": {\"annotationdefaults\": {\"arrowcolor\": \"#2a3f5f\", \"arrowhead\": 0, \"arrowwidth\": 1}, \"coloraxis\": {\"colorbar\": {\"outlinewidth\": 0, \"ticks\": \"\"}}, \"colorscale\": {\"diverging\": [[0, \"#8e0152\"], [0.1, \"#c51b7d\"], [0.2, \"#de77ae\"], [0.3, \"#f1b6da\"], [0.4, \"#fde0ef\"], [0.5, \"#f7f7f7\"], [0.6, \"#e6f5d0\"], [0.7, \"#b8e186\"], [0.8, \"#7fbc41\"], [0.9, \"#4d9221\"], [1, \"#276419\"]], \"sequential\": [[0.0, \"#0d0887\"], [0.1111111111111111, \"#46039f\"], [0.2222222222222222, \"#7201a8\"], [0.3333333333333333, \"#9c179e\"], [0.4444444444444444, \"#bd3786\"], [0.5555555555555556, \"#d8576b\"], [0.6666666666666666, \"#ed7953\"], [0.7777777777777778, \"#fb9f3a\"], [0.8888888888888888, \"#fdca26\"], [1.0, \"#f0f921\"]], \"sequentialminus\": [[0.0, \"#0d0887\"], [0.1111111111111111, \"#46039f\"], [0.2222222222222222, \"#7201a8\"], [0.3333333333333333, \"#9c179e\"], [0.4444444444444444, \"#bd3786\"], [0.5555555555555556, \"#d8576b\"], [0.6666666666666666, \"#ed7953\"], [0.7777777777777778, \"#fb9f3a\"], [0.8888888888888888, \"#fdca26\"], [1.0, \"#f0f921\"]]}, \"colorway\": [\"#636efa\", \"#EF553B\", \"#00cc96\", \"#ab63fa\", \"#FFA15A\", \"#19d3f3\", \"#FF6692\", \"#B6E880\", \"#FF97FF\", \"#FECB52\"], \"font\": {\"color\": \"#2a3f5f\"}, \"geo\": {\"bgcolor\": \"white\", \"lakecolor\": \"white\", \"landcolor\": \"#E5ECF6\", \"showlakes\": true, \"showland\": true, \"subunitcolor\": \"white\"}, \"hoverlabel\": {\"align\": \"left\"}, \"hovermode\": \"closest\", \"mapbox\": {\"style\": \"light\"}, \"paper_bgcolor\": \"white\", \"plot_bgcolor\": \"#E5ECF6\", \"polar\": {\"angularaxis\": {\"gridcolor\": \"white\", \"linecolor\": \"white\", \"ticks\": \"\"}, \"bgcolor\": \"#E5ECF6\", \"radialaxis\": {\"gridcolor\": \"white\", \"linecolor\": \"white\", \"ticks\": \"\"}}, \"scene\": {\"xaxis\": {\"backgroundcolor\": \"#E5ECF6\", \"gridcolor\": \"white\", \"gridwidth\": 2, \"linecolor\": \"white\", \"showbackground\": true, \"ticks\": \"\", \"zerolinecolor\": \"white\"}, \"yaxis\": {\"backgroundcolor\": \"#E5ECF6\", \"gridcolor\": \"white\", \"gridwidth\": 2, \"linecolor\": \"white\", \"showbackground\": true, \"ticks\": \"\", \"zerolinecolor\": \"white\"}, \"zaxis\": {\"backgroundcolor\": \"#E5ECF6\", \"gridcolor\": \"white\", \"gridwidth\": 2, \"linecolor\": \"white\", \"showbackground\": true, \"ticks\": \"\", \"zerolinecolor\": \"white\"}}, \"shapedefaults\": {\"line\": {\"color\": \"#2a3f5f\"}}, \"ternary\": {\"aaxis\": {\"gridcolor\": \"white\", \"linecolor\": \"white\", \"ticks\": \"\"}, \"baxis\": {\"gridcolor\": \"white\", \"linecolor\": \"white\", \"ticks\": \"\"}, \"bgcolor\": \"#E5ECF6\", \"caxis\": {\"gridcolor\": \"white\", \"linecolor\": \"white\", \"ticks\": \"\"}}, \"title\": {\"x\": 0.05}, \"xaxis\": {\"automargin\": true, \"gridcolor\": \"white\", \"linecolor\": \"white\", \"ticks\": \"\", \"title\": {\"standoff\": 15}, \"zerolinecolor\": \"white\", \"zerolinewidth\": 2}, \"yaxis\": {\"automargin\": true, \"gridcolor\": \"white\", \"linecolor\": \"white\", \"ticks\": \"\", \"title\": {\"standoff\": 15}, \"zerolinecolor\": \"white\", \"zerolinewidth\": 2}}}},\n",
              "                        {\"responsive\": true}\n",
              "                    ).then(function(){\n",
              "                            \n",
              "var gd = document.getElementById('70b6dfd5-6223-4436-9fd7-faa6b1322628');\n",
              "var x = new MutationObserver(function (mutations, observer) {{\n",
              "        var display = window.getComputedStyle(gd).display;\n",
              "        if (!display || display === 'none') {{\n",
              "            console.log([gd, 'removed!']);\n",
              "            Plotly.purge(gd);\n",
              "            observer.disconnect();\n",
              "        }}\n",
              "}});\n",
              "\n",
              "// Listen for the removal of the full notebook cells\n",
              "var notebookContainer = gd.closest('#notebook-container');\n",
              "if (notebookContainer) {{\n",
              "    x.observe(notebookContainer, {childList: true});\n",
              "}}\n",
              "\n",
              "// Listen for the clearing of the current output cell\n",
              "var outputEl = gd.closest('.output');\n",
              "if (outputEl) {{\n",
              "    x.observe(outputEl, {childList: true});\n",
              "}}\n",
              "\n",
              "                        })\n",
              "                };\n",
              "                \n",
              "            </script>\n",
              "        </div>\n",
              "</body>\n",
              "</html>"
            ]
          },
          "metadata": {}
        }
      ]
    },
    {
      "cell_type": "markdown",
      "metadata": {
        "id": "1HPbY5xcI0C7"
      },
      "source": [
        "7. Effect of size on rating"
      ]
    },
    {
      "cell_type": "markdown",
      "metadata": {
        "id": "mcNwQFLgI0C8"
      },
      "source": [
        "a.Make a joinplot to understand the effect of size on rating"
      ]
    },
    {
      "cell_type": "code",
      "metadata": {
        "id": "ZKVCc9EDI0C9",
        "colab": {
          "base_uri": "https://localhost:8080/",
          "height": 441
        },
        "outputId": "f7c6a808-7032-4ca2-85a8-84f9fa99296d"
      },
      "source": [
        "sns.jointplot(x=df3['Size'],y=df3['Rating'],data=df3,kind='hex')\n",
        "plt.show()"
      ],
      "execution_count": 40,
      "outputs": [
        {
          "output_type": "display_data",
          "data": {
            "image/png": "[encoded data removed]",
            "text/plain": [
              "<Figure size 432x432 with 3 Axes>"
            ]
          },
          "metadata": {
            "needs_background": "light"
          }
        }
      ]
    },
    {
      "cell_type": "markdown",
      "metadata": {
        "id": "OloNJjGrI0C-"
      },
      "source": [
        "b. Do you see any patterns?\n",
        "c. How do you explain the pattern?"
      ]
    },
    {
      "cell_type": "raw",
      "metadata": {
        "id": "d5HV8Fo1I0C_"
      },
      "source": [
        "We observed that the maximum data point gather in between Rating 4.0-4.5 and size 0-40000(40 mb).\n",
        "Meaning is that the application size which is in between 0-40000(40 mb) get good rating on play store"
      ]
    },
    {
      "cell_type": "markdown",
      "metadata": {
        "id": "FaIbegJ3I0C_"
      },
      "source": [
        "8. Effect of price on rating"
      ]
    },
    {
      "cell_type": "markdown",
      "metadata": {
        "id": "oTiO6n8CI0DA"
      },
      "source": [
        "a. Make a jointplot (with regression line)"
      ]
    },
    {
      "cell_type": "code",
      "metadata": {
        "id": "joPldwBpI0DB",
        "colab": {
          "base_uri": "https://localhost:8080/",
          "height": 441
        },
        "outputId": "e4ed0946-1ddb-48c8-f223-0806ac09a70e"
      },
      "source": [
        "sns.jointplot(x =\"Rating\" , y = \"Price\" ,data = df3)\n",
        "plt.show()"
      ],
      "execution_count": 42,
      "outputs": [
        {
          "output_type": "display_data",
          "data": {
            "image/png": "[encoded data removed]",
            "text/plain": [
              "<Figure size 432x432 with 3 Axes>"
            ]
          },
          "metadata": {
            "needs_background": "light"
          }
        }
      ]
    },
    {
      "cell_type": "markdown",
      "metadata": {
        "id": "z7UUzGPYI0DC"
      },
      "source": [
        "b. What pattern do you see?\n",
        "\n",
        "c. How do you explain the pattern?"
      ]
    },
    {
      "cell_type": "raw",
      "metadata": {
        "id": "Qcggk2eRI0DD"
      },
      "source": [
        "increasing the price, Rating Increases"
      ]
    },
    {
      "cell_type": "markdown",
      "metadata": {
        "id": "mlrTDx45I0DJ"
      },
      "source": [
        "d. Replot the data, this time with only records with price > 0"
      ]
    },
    {
      "cell_type": "code",
      "metadata": {
        "id": "IjJBc97eI0DJ",
        "colab": {
          "base_uri": "https://localhost:8080/",
          "height": 441
        },
        "outputId": "a8a98cb7-42b5-41ad-d0f4-ba99e779b34c"
      },
      "source": [
        "Price_greaterthan_zero = df3[df3['Price'] > 0]\n",
        "sns.jointplot(x =\"Price\" , y = \"Rating\" ,data = Price_greaterthan_zero, kind = \"reg\" )\n",
        "plt.show()"
      ],
      "execution_count": 43,
      "outputs": [
        {
          "output_type": "display_data",
          "data": {
            "image/png": "[encoded data removed]",
            "text/plain": [
              "<Figure size 432x432 with 3 Axes>"
            ]
          },
          "metadata": {
            "needs_background": "light"
          }
        }
      ]
    },
    {
      "cell_type": "code",
      "metadata": {
        "id": "8M4kj8nhI0DK",
        "colab": {
          "base_uri": "https://localhost:8080/",
          "height": 369
        },
        "outputId": "80c2359a-d358-41f4-f368-789bff3a5f86"
      },
      "source": [
        "sns.lmplot(x='Price', y='Rating', hue ='Content Rating', data=df3)\n",
        "plt.show()"
      ],
      "execution_count": 44,
      "outputs": [
        {
          "output_type": "display_data",
          "data": {
            "image/png": "[encoded data removed]",
            "text/plain": [
              "<Figure size 466.875x360 with 1 Axes>"
            ]
          },
          "metadata": {
            "needs_background": "light"
          }
        }
      ]
    },
    {
      "cell_type": "raw",
      "metadata": {
        "id": "K_qzLid9I0DL"
      },
      "source": [
        "Mature and Teen are more posively co-related in Content rating than 10+ and everyone"
      ]
    },
    {
      "cell_type": "markdown",
      "metadata": {
        "id": "XmuUGiCQI0DM"
      },
      "source": [
        "9. Look at all the numeric interactions together –\n",
        "a. Make a pairplort with the colulmns - 'Reviews', 'Size', 'Rating', 'Price'"
      ]
    },
    {
      "cell_type": "code",
      "metadata": {
        "id": "9yQaIsFfI0DM",
        "colab": {
          "base_uri": "https://localhost:8080/",
          "height": 726
        },
        "outputId": "635da2ad-b013-4ce1-d24d-d3da735a46f4"
      },
      "source": [
        "sns.pairplot(df3,vars=['Rating','Size', 'Reviews', 'Price'])\n",
        "plt.show()"
      ],
      "execution_count": 45,
      "outputs": [
        {
          "output_type": "display_data",
          "data": {
            "image/png": "[encoded data removed]",
            "text/plain": [
              "<Figure size 720x720 with 20 Axes>"
            ]
          },
          "metadata": {
            "needs_background": "light"
          }
        }
      ]
    },
    {
      "cell_type": "raw",
      "metadata": {
        "id": "ZooOIP_yI0DN"
      },
      "source": [
        "This is the basic exploratory analysis to look for any evident patterns or relationships between the features. "
      ]
    },
    {
      "cell_type": "markdown",
      "metadata": {
        "id": "nCOsYp0YI0DO"
      },
      "source": [
        "10. Rating vs. content rating"
      ]
    },
    {
      "cell_type": "markdown",
      "metadata": {
        "id": "PSiCM3_hI0DO"
      },
      "source": [
        "a. Make a bar plot displaying the rating for each content rating"
      ]
    },
    {
      "cell_type": "code",
      "metadata": {
        "id": "ZvAvjqg-I0DP",
        "colab": {
          "base_uri": "https://localhost:8080/",
          "height": 340
        },
        "outputId": "ab30a921-e523-4e5f-eb99-9acef5cd3ee2"
      },
      "source": [
        "a = df3['Rating'].groupby(df3['Content Rating']).median().plot(kind = 'bar')\n",
        "a.set(xlabel ='Rating of content', ylabel = 'Average of Ratings')\n",
        "plt.show()"
      ],
      "execution_count": 46,
      "outputs": [
        {
          "output_type": "display_data",
          "data": {
            "image/png": "[encoded data removed]",
            "text/plain": [
              "<Figure size 432x288 with 1 Axes>"
            ]
          },
          "metadata": {
            "needs_background": "light"
          }
        }
      ]
    },
    {
      "cell_type": "markdown",
      "metadata": {
        "id": "qhnbCmI1I0Df"
      },
      "source": [
        "b. Which metric would you use? Mean? Median? Some other quantile?\n",
        "\n",
        "c. Choose the right metric and plot"
      ]
    },
    {
      "cell_type": "code",
      "metadata": {
        "id": "PJSTAWGkI0Df",
        "colab": {
          "base_uri": "https://localhost:8080/",
          "height": 340
        },
        "outputId": "651cda9e-8deb-4d26-a5ed-24b6be4bb958"
      },
      "source": [
        "df3.groupby(['Content Rating'])['Rating'].count().plot.bar(color=\"b\")\n",
        "plt.ylabel('Rating')\n",
        "plt.show()"
      ],
      "execution_count": 47,
      "outputs": [
        {
          "output_type": "display_data",
          "data": {
            "image/png": "[encoded data removed]",
            "text/plain": [
              "<Figure size 432x288 with 1 Axes>"
            ]
          },
          "metadata": {
            "needs_background": "light"
          }
        }
      ]
    },
    {
      "cell_type": "markdown",
      "metadata": {
        "id": "FsmextptI0Dg"
      },
      "source": [
        "11. Content rating vs. size vs. rating – 3 variables at a time"
      ]
    },
    {
      "cell_type": "markdown",
      "metadata": {
        "id": "ITrGPkv4I0Dh"
      },
      "source": [
        "a. Create 5 buckets (20% records in each) based on Size"
      ]
    },
    {
      "cell_type": "code",
      "metadata": {
        "id": "XNs9C-sJI0Di",
        "colab": {
          "base_uri": "https://localhost:8080/",
          "height": 383
        },
        "outputId": "a1d296b1-3ad9-4b32-895c-3c2751332ce8"
      },
      "source": [
        "#Checking skewness\n",
        "sns.distplot(df3[\"Size\"], bins=5)\n",
        "plt.show()"
      ],
      "execution_count": 48,
      "outputs": [
        {
          "output_type": "stream",
          "name": "stderr",
          "text": [
            "/usr/local/lib/python3.7/dist-packages/seaborn/distributions.py:2619: FutureWarning:\n",
            "\n",
            "`distplot` is a deprecated function and will be removed in a future version. Please adapt your code to use either `displot` (a figure-level function with similar flexibility) or `histplot` (an axes-level function for histograms).\n",
            "\n"
          ]
        },
        {
          "output_type": "display_data",
          "data": {
            "image/png": "[encoded data removed]",
            "text/plain": [
              "<Figure size 432x288 with 1 Axes>"
            ]
          },
          "metadata": {
            "needs_background": "light"
          }
        }
      ]
    },
    {
      "cell_type": "code",
      "metadata": {
        "id": "lK7RGnhHI0Dj",
        "colab": {
          "base_uri": "https://localhost:8080/",
          "height": 402
        },
        "outputId": "2c2dad20-d61d-4893-e31f-28314924992d"
      },
      "source": [
        "bins=[0, 4600, 12000, 21516, 32000, 100000]\n",
        "df3['Size_Buckets'] = pd.cut(df3['Size'], bins, labels=['VERY LOW','LOW','MED','HIGH','VERY HIGH'])\n",
        "pd.pivot_table(df3, values='Rating', index='Size_Buckets', columns='Content Rating')"
      ],
      "execution_count": 49,
      "outputs": [
        {
          "output_type": "stream",
          "name": "stderr",
          "text": [
            "/usr/local/lib/python3.7/dist-packages/ipykernel_launcher.py:2: SettingWithCopyWarning:\n",
            "\n",
            "\n",
            "A value is trying to be set on a copy of a slice from a DataFrame.\n",
            "Try using .loc[row_indexer,col_indexer] = value instead\n",
            "\n",
            "See the caveats in the documentation: https://pandas.pydata.org/pandas-docs/stable/user_guide/indexing.html#returning-a-view-versus-a-copy\n",
            "\n"
          ]
        },
        {
          "output_type": "execute_result",
          "data": {
            "text/html": [
              "<div>\n",
              "<style scoped>\n",
              "    .dataframe tbody tr th:only-of-type {\n",
              "        vertical-align: middle;\n",
              "    }\n",
              "\n",
              "    .dataframe tbody tr th {\n",
              "        vertical-align: top;\n",
              "    }\n",
              "\n",
              "    .dataframe thead th {\n",
              "        text-align: right;\n",
              "    }\n",
              "</style>\n",
              "<table border=\"1\" class=\"dataframe\">\n",
              "  <thead>\n",
              "    <tr style=\"text-align: right;\">\n",
              "      <th>Content Rating</th>\n",
              "      <th>Everyone</th>\n",
              "      <th>Everyone 10+</th>\n",
              "      <th>Mature 17+</th>\n",
              "      <th>Teen</th>\n",
              "    </tr>\n",
              "    <tr>\n",
              "      <th>Size_Buckets</th>\n",
              "      <th></th>\n",
              "      <th></th>\n",
              "      <th></th>\n",
              "      <th></th>\n",
              "    </tr>\n",
              "  </thead>\n",
              "  <tbody>\n",
              "    <tr>\n",
              "      <th>VERY LOW</th>\n",
              "      <td>4.116056</td>\n",
              "      <td>4.188889</td>\n",
              "      <td>3.951429</td>\n",
              "      <td>4.224490</td>\n",
              "    </tr>\n",
              "    <tr>\n",
              "      <th>LOW</th>\n",
              "      <td>4.161317</td>\n",
              "      <td>4.207143</td>\n",
              "      <td>4.129592</td>\n",
              "      <td>4.209655</td>\n",
              "    </tr>\n",
              "    <tr>\n",
              "      <th>MED</th>\n",
              "      <td>4.242463</td>\n",
              "      <td>4.262602</td>\n",
              "      <td>4.091975</td>\n",
              "      <td>4.205630</td>\n",
              "    </tr>\n",
              "    <tr>\n",
              "      <th>HIGH</th>\n",
              "      <td>4.179122</td>\n",
              "      <td>4.209375</td>\n",
              "      <td>4.168333</td>\n",
              "      <td>4.213158</td>\n",
              "    </tr>\n",
              "    <tr>\n",
              "      <th>VERY HIGH</th>\n",
              "      <td>4.208134</td>\n",
              "      <td>4.287805</td>\n",
              "      <td>4.197170</td>\n",
              "      <td>4.279603</td>\n",
              "    </tr>\n",
              "  </tbody>\n",
              "</table>\n",
              "</div>"
            ],
            "text/plain": [
              "Content Rating  Everyone  Everyone 10+  Mature 17+      Teen\n",
              "Size_Buckets                                                \n",
              "VERY LOW        4.116056      4.188889    3.951429  4.224490\n",
              "LOW             4.161317      4.207143    4.129592  4.209655\n",
              "MED             4.242463      4.262602    4.091975  4.205630\n",
              "HIGH            4.179122      4.209375    4.168333  4.213158\n",
              "VERY HIGH       4.208134      4.287805    4.197170  4.279603"
            ]
          },
          "metadata": {},
          "execution_count": 49
        }
      ]
    },
    {
      "cell_type": "markdown",
      "metadata": {
        "id": "74t71g1BI0Dk"
      },
      "source": [
        "b. By Content Rating vs. Size buckets, get the rating (20th percentile) for each\n",
        "combination"
      ]
    },
    {
      "cell_type": "code",
      "metadata": {
        "id": "lxvh9eP8I0Dl",
        "colab": {
          "base_uri": "https://localhost:8080/"
        },
        "outputId": "dba8b69e-0744-40b1-b126-3494e52216cf"
      },
      "source": [
        "df3.Size.quantile([0.2, 0.4,0.6,0.8])"
      ],
      "execution_count": 50,
      "outputs": [
        {
          "output_type": "execute_result",
          "data": {
            "text/plain": [
              "0.2     5100.0\n",
              "0.4    14000.0\n",
              "0.6    21516.0\n",
              "0.8    34000.0\n",
              "Name: Size, dtype: float64"
            ]
          },
          "metadata": {},
          "execution_count": 50
        }
      ]
    },
    {
      "cell_type": "code",
      "metadata": {
        "id": "jmSeXmHHI0Dm",
        "colab": {
          "base_uri": "https://localhost:8080/"
        },
        "outputId": "36ae1cdb-9401-4457-8ebe-57425d800f39"
      },
      "source": [
        "df3.Rating.quantile([0.2, 0.4,0.6,0.8])"
      ],
      "execution_count": 51,
      "outputs": [
        {
          "output_type": "execute_result",
          "data": {
            "text/plain": [
              "0.2    3.9\n",
              "0.4    4.2\n",
              "0.6    4.4\n",
              "0.8    4.6\n",
              "Name: Rating, dtype: float64"
            ]
          },
          "metadata": {},
          "execution_count": 51
        }
      ]
    },
    {
      "cell_type": "markdown",
      "metadata": {
        "id": "g-JQvLcfI0Dn"
      },
      "source": [
        "c. Make a heatmap of this\n",
        "\n",
        "i. Annotated\n",
        "\n",
        "ii. Greens color map"
      ]
    },
    {
      "cell_type": "code",
      "metadata": {
        "id": "_Nd_SabhI0Do",
        "colab": {
          "base_uri": "https://localhost:8080/",
          "height": 236
        },
        "outputId": "45de0770-6722-48d1-b8e4-32eaa1bc85e6"
      },
      "source": [
        "Size_Buckets =pd.pivot_table(df3, values='Rating', index='Size_Buckets', columns='Content Rating', \n",
        "                     aggfunc=lambda x:np.quantile(x,0.2))\n",
        "Size_Buckets"
      ],
      "execution_count": 52,
      "outputs": [
        {
          "output_type": "execute_result",
          "data": {
            "text/html": [
              "<div>\n",
              "<style scoped>\n",
              "    .dataframe tbody tr th:only-of-type {\n",
              "        vertical-align: middle;\n",
              "    }\n",
              "\n",
              "    .dataframe tbody tr th {\n",
              "        vertical-align: top;\n",
              "    }\n",
              "\n",
              "    .dataframe thead th {\n",
              "        text-align: right;\n",
              "    }\n",
              "</style>\n",
              "<table border=\"1\" class=\"dataframe\">\n",
              "  <thead>\n",
              "    <tr style=\"text-align: right;\">\n",
              "      <th>Content Rating</th>\n",
              "      <th>Everyone</th>\n",
              "      <th>Everyone 10+</th>\n",
              "      <th>Mature 17+</th>\n",
              "      <th>Teen</th>\n",
              "    </tr>\n",
              "    <tr>\n",
              "      <th>Size_Buckets</th>\n",
              "      <th></th>\n",
              "      <th></th>\n",
              "      <th></th>\n",
              "      <th></th>\n",
              "    </tr>\n",
              "  </thead>\n",
              "  <tbody>\n",
              "    <tr>\n",
              "      <th>VERY LOW</th>\n",
              "      <td>3.8</td>\n",
              "      <td>3.84</td>\n",
              "      <td>3.28</td>\n",
              "      <td>3.90</td>\n",
              "    </tr>\n",
              "    <tr>\n",
              "      <th>LOW</th>\n",
              "      <td>3.8</td>\n",
              "      <td>3.94</td>\n",
              "      <td>3.64</td>\n",
              "      <td>3.88</td>\n",
              "    </tr>\n",
              "    <tr>\n",
              "      <th>MED</th>\n",
              "      <td>4.0</td>\n",
              "      <td>4.10</td>\n",
              "      <td>3.90</td>\n",
              "      <td>3.90</td>\n",
              "    </tr>\n",
              "    <tr>\n",
              "      <th>HIGH</th>\n",
              "      <td>3.9</td>\n",
              "      <td>4.00</td>\n",
              "      <td>3.90</td>\n",
              "      <td>4.00</td>\n",
              "    </tr>\n",
              "    <tr>\n",
              "      <th>VERY HIGH</th>\n",
              "      <td>3.9</td>\n",
              "      <td>4.10</td>\n",
              "      <td>4.00</td>\n",
              "      <td>4.00</td>\n",
              "    </tr>\n",
              "  </tbody>\n",
              "</table>\n",
              "</div>"
            ],
            "text/plain": [
              "Content Rating  Everyone  Everyone 10+  Mature 17+  Teen\n",
              "Size_Buckets                                            \n",
              "VERY LOW             3.8          3.84        3.28  3.90\n",
              "LOW                  3.8          3.94        3.64  3.88\n",
              "MED                  4.0          4.10        3.90  3.90\n",
              "HIGH                 3.9          4.00        3.90  4.00\n",
              "VERY HIGH            3.9          4.10        4.00  4.00"
            ]
          },
          "metadata": {},
          "execution_count": 52
        }
      ]
    },
    {
      "cell_type": "code",
      "metadata": {
        "id": "le9KiHNeI0Dp",
        "colab": {
          "base_uri": "https://localhost:8080/",
          "height": 283
        },
        "outputId": "f354ddd4-0eac-40ee-8407-84d92670a420"
      },
      "source": [
        "sns.heatmap(Size_Buckets, annot = True)\n",
        "plt.show()"
      ],
      "execution_count": 53,
      "outputs": [
        {
          "output_type": "display_data",
          "data": {
            "image/png": "[encoded data removed]",
            "text/plain": [
              "<Figure size 432x288 with 2 Axes>"
            ]
          },
          "metadata": {
            "needs_background": "light"
          }
        }
      ]
    },
    {
      "cell_type": "code",
      "metadata": {
        "id": "IJqRfctWI0Dq",
        "colab": {
          "base_uri": "https://localhost:8080/",
          "height": 283
        },
        "outputId": "d1bb32b4-d02e-4168-b1fe-9f111e18350c"
      },
      "source": [
        "sns.heatmap(Size_Buckets, annot=True, cmap='Greens')\n",
        "plt.show()"
      ],
      "execution_count": 54,
      "outputs": [
        {
          "output_type": "display_data",
          "data": {
            "image/png": "[encoded data removed]",
            "text/plain": [
              "<Figure size 432x288 with 2 Axes>"
            ]
          },
          "metadata": {
            "needs_background": "light"
          }
        }
      ]
    },
    {
      "cell_type": "markdown",
      "metadata": {
        "id": "0n-t4xpPI0Dr"
      },
      "source": [
        "d. What’s your inference? Are lighter apps preferred in all categories? Heavier? Some?"
      ]
    },
    {
      "cell_type": "raw",
      "metadata": {
        "id": "TTAC_4hkI0Ds"
      },
      "source": [
        "Yes, most of havier apps seems to be more preferred in all the Content Ratings. But, not to a big variations in it.\n",
        "Except, Mature 17+ where low size apps arent preferred to a greater variation."
      ]
    },
    {
      "cell_type": "code",
      "metadata": {
        "id": "Ekux8-iAI0Ds"
      },
      "source": [
        "'''Yes, most of havier apps seems to be more preferred in all the Content Ratings. But, not to a big variations in it.\n",
        "Except, Mature 17+ where low size apps arent preferred to a greater variation.\n",
        "Apps which are in larger storage size are choosen for all types of content rating,but that number is adequate not huge.\n",
        "Although on the otherhand when it comes to Mature 17+ category which are in less storage size, the number game is weak w.r.t rating as they are less preferred.\n",
        "\n"
      ],
      "execution_count": null,
      "outputs": []
    }
  ]
}